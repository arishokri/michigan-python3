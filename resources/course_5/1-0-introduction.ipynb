{
 "cells": [
  {
   "cell_type": "markdown",
   "metadata": {},
   "source": [
    "Welcome to the Python 3 Projects course. This course is a bit different from the rest of the courses in this\n",
    "specialization -- while I'm going to teach you a number of different topics, the core focus is on getting more practice\n",
    "with everything you've learned in the previous courses in this series. I regularly teach graduate students here at the\n",
    "University of Michigan, mostly in the topics of applied data science and applied artificial intelligence. Many of those\n",
    "students don't have computer science undergraduate degrees, and I often get asked by learners how they can become better\n",
    "python programmers. While a series like this can give you some base skills and knowledge, the best way for most people\n",
    "to become better programers is to program!\n"
   ]
  },
  {
   "cell_type": "markdown",
   "metadata": {},
   "source": [
    "And this can be daunting, especially for new programmers who don't yet have confidence in their skills, and may not yet\n",
    "have a career where they are programming regularly. So the goal in this course is to give you more of an opportunity to\n",
    "practice the python you've already learned. But I can't help it but to teach some new topics as well, so we're going to\n",
    "do all of this worked practice which I introduce you to a few new software development concepts.\n"
   ]
  },
  {
   "cell_type": "markdown",
   "metadata": {},
   "source": [
    "In the first module of this course I'm going to show you to how I think about designing software through diagrams. I'm\n",
    "going to introduce you to the basics of software engineering practices, while giving you the opportunity to practice\n",
    "writing object oriented python code. I'll walk you through the design of a very small text adventure game, and at the\n",
    "end of this module you'll have an assignment where you have to write python code based on a specification and list of\n",
    "constraints which I give you.\n"
   ]
  },
  {
   "cell_type": "markdown",
   "metadata": {},
   "source": [
    "The assignment is actually an interesting one to me personally, as it involves creating a python program which is able\n",
    "to play a word guessing game called WordyPy. This game actually is going to be used throughout the course, and in the\n",
    "second module of the course I'll teach you how to use new third party python packages to improve the game playing\n",
    "program. Specifically, I'm going to introduce you to the Python Imaging Library, an image manipulation and graphics\n",
    "package which allows you to both render and process images in the Jupyter notebook. The final module of the course will\n",
    "tackle the issue of text in images, typically referred to as Optical Character Recognition, or OCR. The library I\n",
    "introduce you to here allows you to examine an image for text strings, and process that within Python -- another example\n",
    "of how to extend the functionality of the python programming language without having to write all of the code yourself.\n"
   ]
  },
  {
   "cell_type": "markdown",
   "metadata": {},
   "source": [
    "I'm looking forward to the next three weeks, so let's roll up our sleeves and start writing some code!\n"
   ]
  }
 ],
 "metadata": {
  "kernelspec": {
   "display_name": "Python 3 (ipykernel)",
   "language": "python",
   "name": "python3"
  },
  "language_info": {
   "codemirror_mode": {
    "name": "ipython",
    "version": 3
   },
   "file_extension": ".py",
   "mimetype": "text/x-python",
   "name": "python",
   "nbconvert_exporter": "python",
   "pygments_lexer": "ipython3",
   "version": "3.11.6"
  }
 },
 "nbformat": 4,
 "nbformat_minor": 4
}
