{
 "cells": [
  {
   "cell_type": "markdown",
   "metadata": {},
   "source": [
    "## Creating Images in Python\n",
    "\n",
    "For this week's assignment you actually don't have to create any new images, I'll do that for you. Your job is to use\n",
    "the python imaging library to detect elements of the image cased on their color. However, I think it's important that\n",
    "you know images work just a bit more, so this lecture is going to focus on creating and manipulating images using PIL.\n"
   ]
  },
  {
   "cell_type": "code",
   "execution_count": null,
   "metadata": {
    "colab_type": "text",
    "collapsed": true,
    "id": "V5RAZOCalYpP"
   },
   "outputs": [],
   "source": [
    "# First, lets bring in a number of libraries that we'll need\n",
    "import PIL\n",
    "from PIL import Image\n",
    "from IPython.display import display\n",
    "\n",
    "# And lets load the image we were working with last time\n",
    "file = \"north_quad.jpg\"\n",
    "image = Image.open(file)\n",
    "\n",
    "# Now, for this lecture I need a smaller image, so lets resize this one. There are two\n",
    "# different functions we can use, resize() and thumbnail(). They differ in subtle ways,\n",
    "# thumbnail takes a single argument as a tuple (width, height), and it modifies the\n",
    "# image in place and preserves the aspect ratio. Resize, on the other hand, returns a\n",
    "# a new image and you have complete control over whether you want to preserve the aspect\n",
    "# ratio or not. If we want to preserve the aspect ratio and use the resize method then\n",
    "# we want to divide the original width and height by some shared number.\n",
    "small = image.resize((image.width // 3, image.height // 3))\n",
    "print(small.size)\n",
    "display(small)"
   ]
  },
  {
   "cell_type": "markdown",
   "metadata": {},
   "source": [
    "Great, we have a smaller version of our image now, and our original image is untouched. In a previous lecture I showed\n",
    "you how an image can be changed from RGB colorspace to L colorspace, effectively creating a black and white image from a\n",
    "color one. We're going to do this again, but this time we're going to make a **contact sheet**. A contact sheet is sort\n",
    "of an old school method of developing film where you develop every exposure in a small thumbnail on a single piece of\n",
    "photo paper. This gives you a single sheet that you can use to see all of the photos you are working with. In this\n",
    "example, I want to create a contact sheet that shows the original image as well as three different greyscale images\n",
    "which use the red, green, and blue channels as appropriate.\n"
   ]
  },
  {
   "cell_type": "code",
   "execution_count": null,
   "metadata": {},
   "outputs": [],
   "source": [
    "# There are a few ways which we can do this, but I am going to start by creating the\n",
    "# four images. We already have the base color image done, and we know from the previous lecture\n",
    "# how to create the others. I'm going to store all of these images in a dictionary.\n",
    "\n",
    "# We store our base full color image first\n",
    "images = {\"base\": small}\n",
    "\n",
    "# Then we will store our individual color channel versions by band (channel) name\n",
    "for band_name in small.getbands():\n",
    "    images[band_name] = small.getchannel(band_name)\n",
    "\n",
    "# Now let's display some diagnostic information\n",
    "print(images.keys())\n",
    "for image in images.values():\n",
    "    display(image)"
   ]
  },
  {
   "cell_type": "code",
   "execution_count": null,
   "metadata": {},
   "outputs": [],
   "source": [
    "# Ok, this looks good. Lets make sure we label these images though, so no\n",
    "# one gets confused. And lets put them together into one larger image in a 2x2 grid\n",
    "\n",
    "# To put the images together into one larger image, I'll first create a new image,\n",
    "# I'll call it contact_sheet, which is big enough to hold all of the smaller images.\n",
    "# We do this with the new() function, and it requires us to provide a mode (we'll use\n",
    "# RGB from the base image) as well as a width and height\n",
    "contact_sheet = Image.new(\n",
    "    images[\"base\"].mode, (images[\"base\"].width * 2, images[\"base\"].height * 2)\n",
    ")\n",
    "\n",
    "# Now we loop over all of the images and place them into the contact sheet. We'll\n",
    "# use the paste() method to place one image into (really, on top of) another. This\n",
    "# method takes two arguments, the image to paste and the upper left hand point --\n",
    "# called the origin -- where we want to paste the image.\n",
    "box = (0, 0)  # the top left corner\n",
    "\n",
    "for image in images.values():\n",
    "    # Paste the image in the contact sheet\n",
    "    contact_sheet.paste(image, box)\n",
    "\n",
    "    # Let's print out some diagnostic information\n",
    "    print(box)\n",
    "\n",
    "    # Update the location for the next image. I'll use some simple logic here, and\n",
    "    # will move to the right if our left was 0, and move down and to the left if\n",
    "    # our left was not 0\n",
    "    if box[0] == 0:\n",
    "        box = (images[\"base\"].width, box[1])\n",
    "    else:\n",
    "        box = (box[1], images[\"base\"].height)\n",
    "\n",
    "display(contact_sheet)"
   ]
  },
  {
   "cell_type": "markdown",
   "metadata": {},
   "source": [
    "Here's a good little exercise for you -- take a look at our logic here, it works fine if we are creating a 2x2 image,\n",
    "but what would we need to change to have it work with an arbitrary number of images? For instance, lets say we wanted to\n",
    "have this as a 3x3 image, so a total of eight variations and one original. How would you modify the code? Better yet,\n",
    "instead of guessing, why not try it, put a few more images in the dictionary and see if you can create a 3x3 contact\n",
    "sheet.\n"
   ]
  },
  {
   "cell_type": "markdown",
   "metadata": {},
   "source": [
    "Ok, now, let's briefly talk about text. The python imaging library allows you to render text onto an image as well, and\n",
    "this is where the difference between raster images and vector images becomes really apparent. In a vector image the text\n",
    "is stored as a set of drawing primitives, such as a location on the image, the size and font of the text, and the words\n",
    "to render. This is then turned into a series of shapes, and when you resize the image the text remains legible and\n",
    "clear. In a raster (bitmap) image, the text is converted into pixels. This means that when it is resized there isn't\n",
    "much that the machine can do to ensure it remains legible, and you will often get that \"pixelated\" look to text in\n",
    "images which have been resized. The best approach when working with raster graphics and text is add your text after you\n",
    "have finished the rest of the image manipulation.\n"
   ]
  },
  {
   "cell_type": "code",
   "execution_count": null,
   "metadata": {},
   "outputs": [],
   "source": [
    "# Since we already have the contact sheet created I'm going to use it as our base image\n",
    "# and put the text on top of it. Like other drawing functions, text drawing is done in\n",
    "# the ImageDraw module, but we also need to include ImageFont for loading system fonts.\n",
    "\n",
    "from PIL import ImageDraw, ImageFont\n",
    "\n",
    "# When we create a font object for drawing we need to indicate which font we will use,\n",
    "# and I've arbitrarily chosen to use Roboto-Bold which is a TrueType font, and we need\n",
    "# to indicate the size we want the font to be.\n",
    "font = ImageFont.truetype(\"assets/roboto_font/Roboto-Bold.ttf\", 25)\n",
    "\n",
    "# The pattern I will use is similar to the previous example, I'm going to iterate through\n",
    "# the series of images but instead of using them directly I'll just write the text information\n",
    "# to the contact sheet\n",
    "box = (0, 0)\n",
    "for image_label in images.keys():\n",
    "    # I'm going to write the text on an image with a black background, with the width\n",
    "    # of the image being the size of our individual images, and the height being 30 pixels\n",
    "\n",
    "    # Create the base image\n",
    "    block = Image.new(\"RGB\", (images[\"base\"].width, 30), color=\"black\")\n",
    "\n",
    "    # Get a handle to draw on that image\n",
    "    draw = ImageDraw.Draw(block)\n",
    "\n",
    "    # Draw our text. There are two required parameters, the first parameter being the\n",
    "    # \"anchor\" position indicating where the text will start, and the second parameter\n",
    "    # being the text itself. There are numerous optional parameters, such as size and\n",
    "    # font. But let's look at this \"anchor\" parameter. This is a two character string\n",
    "    # which indicates where the text should be anchored. The PIL documentation on this\n",
    "    # is great, especially if you are a font geek! But in short, \"mm\" means that the\n",
    "    # text will appear in the middle of the anchor location, and that the text will\n",
    "    # be centered both vertically and horizontally around this point. Because of this\n",
    "    # we put our first anchor point in the middle of the block\n",
    "    draw.text(\n",
    "        (block.width // 2, block.height // 2),\n",
    "        f\"{image_label}\",\n",
    "        size=25,\n",
    "        anchor=\"mm\",\n",
    "        font=font,\n",
    "    )\n",
    "\n",
    "    # See PIL documentation for more information on the anchor parameter:\n",
    "    # https://pillow.readthedocs.io/en/stable/handbook/text-anchors.html#text-anchors\n",
    "\n",
    "    # The last step is to just paste this block into the contact sheet\n",
    "    contact_sheet.paste(block, box)\n",
    "\n",
    "    # And update our location for the next iteration\n",
    "    if box[0] == 0:\n",
    "        box = (images[\"base\"].width, box[1])\n",
    "    else:\n",
    "        box = (box[1], images[\"base\"].height)\n",
    "\n",
    "display(contact_sheet)"
   ]
  },
  {
   "cell_type": "markdown",
   "metadata": {},
   "source": [
    "Wow, that's looking good! A contact sheet that shows our four different options, and tells us which color channel they\n",
    "came from. We've created a handy function if you just want to quickly make an image black and white and want to see some\n",
    "of the variations that could be formed.\n",
    "\n",
    "Now, I could end the lecture here, but I want to show you one more thing. Remember that our base image had a color mode\n",
    "of RGB -- red green and blue -- and that each of our greyscale images have a color model of L for luminosity. When you\n",
    "paste those images across into the contact sheet the mode is changed is RGB. So what does this actually look like under\n",
    "the hood? Let's take a look.\n"
   ]
  },
  {
   "cell_type": "code",
   "execution_count": null,
   "metadata": {},
   "outputs": [],
   "source": [
    "# Let's look at a chunk of the blue greyscale image. We can do this by finding the image\n",
    "# center and then subtracting the height of the bar which holds the label.\n",
    "blue_image = contact_sheet.crop(\n",
    "    (\n",
    "        contact_sheet.width // 2,\n",
    "        contact_sheet.height // 2,\n",
    "        contact_sheet.width,\n",
    "        contact_sheet.height,\n",
    "    )\n",
    ")\n",
    "\n",
    "# Let's print out a couple of pixels in this area\n",
    "print(blue_image.getpixel((0, 30)))\n",
    "print(blue_image.getpixel((1, 30)))\n",
    "print(blue_image.getpixel((0, 31)))\n",
    "print(blue_image.getpixel((1, 31)))"
   ]
  },
  {
   "cell_type": "markdown",
   "metadata": {
    "colab_type": "text",
    "id": "Ah-dI9KHlYpa"
   },
   "source": [
    "So what happens underneath is that PIL modifies the image from a single channel to three channels, but does so by\n",
    "repeating the pixel value across all channels. This creates an RGB-based image that looks black and white, because when\n",
    "an RGB pixel has equal values in each channel, it's a shade of grey.\n",
    "\n",
    "Ok, as you can see, I love image work, and sadly I don't get much time to do it anymore. When I was a doctoral student,\n",
    "however, I did a lot of hobby work with greyscale images, including high dynamic range photography, and composite\n",
    "photography which, at the time, was called gigapixel imagery. It's rewarding to be able to look at a scene through the\n",
    "lens of a camera and then snap a photo, then look at the photo on your monitor and peep at individual pixels. Hopefully\n",
    "you've found this series of lectures on the python imaging library interesting, and are ready to tackle this week's\n",
    "assignment.\n"
   ]
  }
 ],
 "metadata": {
  "colab": {
   "name": "Module 1.ipynb",
   "provenance": [],
   "version": "0.3.2"
  },
  "kernelspec": {
   "display_name": "Python 3",
   "language": "python",
   "name": "python3"
  },
  "language_info": {
   "codemirror_mode": {
    "name": "ipython",
    "version": 3
   },
   "file_extension": ".py",
   "mimetype": "text/x-python",
   "name": "python",
   "nbconvert_exporter": "python",
   "pygments_lexer": "ipython3",
   "version": "3.1.-1"
  }
 },
 "nbformat": 4,
 "nbformat_minor": 2
}
