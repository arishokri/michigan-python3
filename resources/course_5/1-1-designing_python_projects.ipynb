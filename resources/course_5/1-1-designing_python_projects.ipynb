{
 "cells": [
  {
   "cell_type": "markdown",
   "metadata": {},
   "source": [
    "# Designing Python Projects\n"
   ]
  },
  {
   "cell_type": "markdown",
   "metadata": {},
   "source": [
    "While you have spent a lot of time learning how to program in Python and the Jupyter environment, I want to zoom out a\n",
    "bit and talk about how we design, develop, and communicate to others how our software systems operate. If you walk into\n",
    "any Computer Science Professor's office or classroom you are bound to see whiteboards - an unconstrained space where we\n",
    "can diagram and draw relationships between pieces - often called components - of the software system we are building. We\n",
    "refer to this practice broadly as **Software Egineering** and, while I won't be giving you a detailed discussion of all\n",
    "of the methods of software engineering as a discipline, I did want to introduce you to one way in which you might\n",
    "diagram out your software solutions. Even better, we have basic support for this right from within the Jupyter\n",
    "programming environment through the drawing extension.\n"
   ]
  },
  {
   "cell_type": "markdown",
   "metadata": {},
   "source": [
    "To create a new diagram we just go to the File menu and select New and Diagram. We get a nice grid-based editor and you\n",
    "can see a bunch of shapes on the left hand side, including a number of optional packages with shapes which have been\n",
    "installed for us. For this lecture, we're going to focus on the shapes listed under the header marked \"UML\" which stands\n",
    "for Unified Modeling Language. UML is a standard notation which software developers often use to describe their systems.\n",
    "To start with, the first shape I want you to look for is the third one over, and this denotes a class. Let's click this\n",
    "to add it to our canvas.\n"
   ]
  },
  {
   "cell_type": "markdown",
   "metadata": {},
   "source": [
    "Actually, this makes for a great time to pause and reflect a bit. You see, when I first started my undergraduate degree\n",
    "in computer science, object oriented programming was just beginning to be introduced. It quickly became the dominant\n",
    "programming paradigm, and it still is today. However, it took me a lot longer than I care to admit to really understand\n",
    "the nuance between classes and objects, especially as it came to things like class methods. But you've just finished\n",
    "learning about object oriented programming in python, so let me ask you, what's the difference between a class and a\n",
    "object?\n"
   ]
  },
  {
   "cell_type": "markdown",
   "metadata": {},
   "source": [
    "As you've learned in the prior courses, a class is an abstract representation of a concept that you want to exist in\n",
    "your software. A class is abstract in that you don't generally create a new class, you instead use it as a blueprint or\n",
    "template for creating new objects. An object then, has properties which are described by a given class, but the specific\n",
    "values for those properties will differ between objects.\n"
   ]
  },
  {
   "cell_type": "markdown",
   "metadata": {},
   "source": [
    "Let's design a little game, and I'm going to design one of my favorite kinds of games called a dungeon crawler. In this\n",
    "game the user is an adventurer in a magical land who has stumbled upon the entrance to a cave and they need to explore\n",
    "the cave, slaying the monsters they face while making choices in each cavern they walk into. Let's begin by creating\n",
    "some classes for the different kinds of game elements I just spoke about.\n"
   ]
  },
  {
   "cell_type": "markdown",
   "metadata": {},
   "source": [
    "So first I'm going to create a new class for the Adventurer, the Cave, and individual Rooms in the Cave. Each one of\n",
    "these becomes their own box in the diagram. You'll see that the box is made up of three sections, the header, which has\n",
    "the class name, the list of fields, which may include a type for a given field, and a list of methods, which may also\n",
    "have various types. In this lecture we're not going to do anything with method yet, and we're instead going to just\n",
    "focus on the the class fields.\n"
   ]
  },
  {
   "cell_type": "markdown",
   "metadata": {},
   "source": [
    "I'll be honest, this is often where confusion comes in. What's a field in Python? Well, Python doesn't have a concept of\n",
    "a field in the core language, and tools like UML are intended to be as general as possible. In UML when we speak about a\n",
    "field we're really talking about attributes of a class in Python. Remember, an attribute of a class in Python is\n",
    "anything that comes after the dot, and we usually break these down into two kinds of attributes: data attributes, which\n",
    "is really what the field in UML is intended to represent, and method attributes, which are invocable attributes like\n",
    "methods and functions, and are intended to go in the bottom of the UML class box.\n"
   ]
  },
  {
   "cell_type": "markdown",
   "metadata": {},
   "source": [
    "Ok, back to our game. I want this game to feel really personalized and compelling, so I need to add some fields which\n",
    "capture some of that. For instance, the Adventurer needs a name, let's say that's of type string which we do just after\n",
    "the colon.m going to add a couple of other common physical characteristics you see in games like this, maybe strength\n",
    "and constitution, and I'll make those int values. I also want to include some placeholder for hit points which will\n",
    "determine their ability to survive in the game, and that seems like it should be an int as well. Finally, I want to give\n",
    "the adventurer a bag which has some list of items in it.\n"
   ]
  },
  {
   "cell_type": "markdown",
   "metadata": {},
   "source": [
    "Now, we're already stumbled and found one of the first benefits of diagraming out a software solution: it can uncover\n",
    "some of the concepts we are interested in modeling and haven't yet thought about. For instance we have this \"bag\" which\n",
    "is a list, but what is it a list of? I referred to these as Items, but there is no item class in python. Are these\n",
    "strings? Ints? Booleans? Well, no, I think I want these to be of a new class of our own devising, the Item class, which\n",
    "means we need to add this to our diagram. If I think about the dungeon crawler games I played as a kid, and maybe still\n",
    "enjoy a bit today, Items are usually some kind of weapons or spells which an adventurer might use to defeat a monster,\n",
    "and thus the item has characteristics like a name and a minimum and maximum damage value. Actually, if you're following\n",
    "along with the lecture in Jupyter why don't you give it a try now -- add an Item class which has a name which is a\n",
    "string, and then two int values, min_dmg and max_dmg.\n"
   ]
  },
  {
   "cell_type": "markdown",
   "metadata": {},
   "source": [
    "Alright, let's keep going, we have an Adventurer, an Item, a Cave, and a Room. Now Caves and Rooms are related, so I'm\n",
    "going to model a Room as having two fields, a monster field and a treasure field. Now, the treasure will be an Item, and\n",
    "we already have that in our diagram, but we need to add another class for Monsters. I'll make it pretty basic, with just\n",
    "a Monster name, a number of hit_points, and a min_dmg and max_dmg values. For the Cave we can start with it just having\n",
    "a list of Room objects which the adventurer will go through. Now, this will be a pretty boring cave system since the\n",
    "rooms are all in one big sequence, but it's good to start somewhere.\n"
   ]
  },
  {
   "cell_type": "markdown",
   "metadata": {},
   "source": [
    "Ok, this is our first class diagram! You can see that through diagraming out the different classes you might want in\n",
    "your system you start to discover the bounds of the problem you are trying to solve. In this case we didn't think about\n",
    "modeling Items and Monsters right away, but it came to us as we started to think about the problem and diagram it out\n",
    "for ourselves and other people.\n"
   ]
  },
  {
   "cell_type": "markdown",
   "metadata": {},
   "source": [
    "Now, we're going to have to turn all of this into code to actually make a working system, but I wanted to show you my\n",
    "process in thinking through the problem first. And, well, we haven't really thought through the problem completely. How\n",
    "does the game actually get played? Does the adventurer choose to move through rooms? Does the monster get to attack\n",
    "first? Can you grab treasure just by coming into the room or must you defeat the Monster? Eventually we need to think\n",
    "through the sequence of events in our system, but let's first see if we can't take what we've got and turn it into code,\n",
    "and we'll do that in the next lecture.\n"
   ]
  }
 ],
 "metadata": {
  "kernelspec": {
   "display_name": "Python 3 (ipykernel)",
   "language": "python",
   "name": "python3"
  },
  "language_info": {
   "codemirror_mode": {
    "name": "ipython",
    "version": 3
   },
   "file_extension": ".py",
   "mimetype": "text/x-python",
   "name": "python",
   "nbconvert_exporter": "python",
   "pygments_lexer": "ipython3",
   "version": "3.11.6"
  }
 },
 "nbformat": 4,
 "nbformat_minor": 4
}
