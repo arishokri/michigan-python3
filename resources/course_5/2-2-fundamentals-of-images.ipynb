{
 "cells": [
  {
   "cell_type": "markdown",
   "metadata": {},
   "source": [
    "# Fundamentals of Images\n",
    "\n",
    "Computer graphics and computer vision is a huge field, and I won't be able to introduce you to the breadth of the area\n",
    "here in this course. However, I want to take a moment and talk about the fundamentals of how computers store images, as\n",
    "this will be important for you both in your assignment and for anything else you might want to do with images. I'm going\n",
    "to focus here on a kind of image called a raster -- or bitmap -- image. A raster image is a reductionist approach to\n",
    "representation, and at a high level it segments an image into a two dimensional array, like a grid. In this grid each\n",
    "cell contains information, such as color, for a single pixel value, and the lines of the grid are imaginary and have no\n",
    "width to them. This means that raster images are rectangular, so they have a width, and a height, and the total number\n",
    "of pixels in a raster image are the number of rows times the number of columns. In this course we're only going to be\n",
    "talking about square pixels, but it's possible to have other shapes as well.\n",
    "\n",
    "An alternative method for representing images is as a series of vectors -- drawing primitives which describe the lines\n",
    "and fills which make up the image. Vector images are really quite powerful as they can be resized an infinite amount\n",
    "without losing resolution. Raster images, on the other hand, are much easier to create, especially if they come out of a\n",
    "device which has an imaging sensor like a camera or cell phone. I won't talk any more about vector images in this\n",
    "course, but I do want to dive into raster images, and I think the Jupyter notebook is the perfect place to do that.\n"
   ]
  },
  {
   "cell_type": "code",
   "execution_count": null,
   "metadata": {},
   "outputs": [],
   "source": [
    "# First thing I'm going to do is bring in our python imaging library\n",
    "# and load up the image we have been playing with\n",
    "import PIL\n",
    "from PIL import Image\n",
    "\n",
    "# Load the image\n",
    "image = Image.open(\"north_quad.jpg\")\n",
    "display(image)"
   ]
  },
  {
   "cell_type": "code",
   "execution_count": null,
   "metadata": {},
   "outputs": [],
   "source": [
    "# Now, this image is a raster image, and would have come out of a camera. This means\n",
    "# that it is made up of a grid of pixels. We can see how many pixels there are in it\n",
    "# by looking at the size attribute, which returns a tuple in the format of (width, height)\n",
    "print(image)\n",
    "print(image.size)\n",
    "print(image.width)\n",
    "print(image.height)"
   ]
  },
  {
   "cell_type": "markdown",
   "metadata": {},
   "source": [
    "Ok, we have an image which is 1440 pixels wide by 810 pixels high. But what is a pixel, really? Importantly, I printed\n",
    "out the image object -- which calls the `image.__repr__()` method, and the developers have included in this description\n",
    "the `mode` of the image. For this image, the mode is set to RGB, which stands for red, green blue. What this means is\n",
    "that a pixel is actually a triple, with one value for red, one value for green, and one value for blue, and that when\n",
    "these are combined together the computer will display a specific shade of color. We call these different color\n",
    "dimensions of a pixel the **color channels**. So in this case, we have three color channels, a red one, a green one, and\n",
    "a blue one. This is pretty common, but there are other ways to represent color channels which have their advantages, and\n",
    "we'll touch on that later.\n",
    "\n",
    "But what is the value in a color channel? In most image manipulation software each color channel value is a single byte\n",
    "-- a number between 0 and 255. This means that for a single pixel with three color channels RGB, there exists $256^3$\n",
    "potential combinations, meaning we can represent over 16 million colors for each and every pixel!\n",
    "\n",
    "This sounds like a lot, and frankly, it is! There are three color channels, each one is one byte in size, and graphics\n",
    "artists would say that we have a 3 byte color depth. Actually, we tend to speak in bits instead of in bytes, and since a\n",
    "byte is 8 bits and we have three of them it means we have a 24 bit color depth for a JPEG image, or 8 bits per pixel per\n",
    "color channel.\n",
    "\n",
    "Now, I don't want to go too deep into this, but I actually really love image work. When you're shopping for your next TV\n",
    "or monitor pay attention to what the advertised color depth is. When I originally filmed this course, the norm was that\n",
    "televisions and monitors had an 8 bit color depth, which means each color channel is being given 8 bits of information\n",
    "and is represented by a single byte. Modern TVs, cell phones, and monitors have since evolved, and it's common to see\n",
    "ten bit color depths. This is often called high dynamic range, or HDR, because each color channel can now be represented\n",
    "by 1024 different values, significantly increase the nuance of information which can be captured and shown in images.\n",
    "\n",
    "Let's get a pixel out of this image using the `PIL` library.\n"
   ]
  },
  {
   "cell_type": "code",
   "execution_count": null,
   "metadata": {},
   "outputs": [],
   "source": [
    "# To get a pixel out of an image we can use the getpixel method. This method takes in\n",
    "# a tuple of the x and y coordinate of the pixel we want to retrieve. The (x,y) origin,\n",
    "# which is the place we start from, is in the top left corner of the image.) Let's\n",
    "# grab a chunk of blue Michigan sky from that image.\n",
    "display(image.getpixel((10, 10)))"
   ]
  },
  {
   "cell_type": "code",
   "execution_count": null,
   "metadata": {},
   "outputs": [],
   "source": [
    "# Now, you might have thought a blue dot would show up, but remember while Jupyter\n",
    "# knows how to render a PIL.Image.Image object, when we pull out a pixel we're actually\n",
    "# just getting a tuple of the color values. Let's verify this:\n",
    "\n",
    "# First I'll print out the type of the pixel\n",
    "print(type(image.getpixel((10, 10))))\n",
    "\n",
    "# Now I'll walk through the RGB values in that typle and print them out\n",
    "for index, value in enumerate(\"RGB\"):\n",
    "    print(\n",
    "        f\"Channel {value} has value {image.getpixel((10,10))[index]} of type {type(image.getpixel((10,10))[index])}\"\n",
    "    )"
   ]
  },
  {
   "cell_type": "markdown",
   "metadata": {},
   "source": [
    "Ok, so the sky pixel that we grabbed at location (10,10) has a low Red value, 13, a moderate Green value, 93, and a high\n",
    "blue value, 164. When we use the RGB color scheme a value of 0,0,0 represents pure black, while a value of 255, 255, 255\n",
    "represents pure white.\n",
    "\n",
    "Now, I think this is probably all you need to know in order to do the assignment for this week. But, I want to go a bit\n",
    "further and show you some of the other methods available which might make image manipulation more convenient.\n"
   ]
  },
  {
   "cell_type": "code",
   "execution_count": null,
   "metadata": {},
   "outputs": [],
   "source": [
    "# Let's get a single channel for the whole image, in this case, the blue channel.\n",
    "blues = image.getchannel(\"B\")\n",
    "\n",
    "print(blues)\n",
    "print(type(blues))"
   ]
  },
  {
   "cell_type": "markdown",
   "metadata": {},
   "source": [
    "So this is interesting to me. When we take a single color channel what happens underneath is that PIL goes pixel by\n",
    "pixel and makes a copy of the image but only copies out the blue channel. So now we have an 8 bit per pixel image\n",
    "instead of a 24 bit per pixel image, and it only has blue values. There are two other changes you might have noticed --\n",
    "first, the image is a PIL.Image.Image, not a JpegImageFile, as we're just dealing with an in memory image. Second, the\n",
    "color mode is set to `L`. An image of mode \"L\" is a black and white image -- the L stands for Luminosity, and PIL\n",
    "believes that the single byte channel represents a greyscale value between 0 and 255. If we render this image in\n",
    "Jupyter, we'll be looking at a greyscale image which is only the blue color channel, let's check it out.\n"
   ]
  },
  {
   "cell_type": "code",
   "execution_count": null,
   "metadata": {},
   "outputs": [],
   "source": [
    "# Lets render the blue channel as an image\n",
    "display(blues)"
   ]
  },
  {
   "cell_type": "markdown",
   "metadata": {},
   "source": [
    "That's not bad at all! We have compressed this image by just keeping one color channel, the blue one, and it's still\n",
    "recognizable! If you've used tools like Adobe Photoshop, there are plenty of different ways you can create black and\n",
    "white photos from color ones. In this one it's tough to see the nuance of in the foliage because we have dropped the\n",
    "green color channel which has that information in it. Let's do one more little demo and look at an image which is just\n",
    "the green color channel.\n"
   ]
  },
  {
   "cell_type": "code",
   "execution_count": null,
   "metadata": {},
   "outputs": [],
   "source": [
    "display(image.getchannel(\"G\"))"
   ]
  },
  {
   "cell_type": "markdown",
   "metadata": {},
   "source": [
    "Take a minute to look at those two images, and note how they are different. I see a lot more nuance in the trees and\n",
    "foliage in the second image, where in the first image they just appear black and without detail, and sometimes this is\n",
    "called clipping. Look at sign in front of the building -- the background of this is blue, and shows up as a moderate\n",
    "grey in the first image and quite a dark grey in the second. The block M on that sign, which is yellow or, as we say in\n",
    "Michigan, maize, shows up lightly colored in the second image, but almost black in the first one. By converting our\n",
    "image to black and white using single color channels we get very different interpretations of what is being shown.\n",
    "\n",
    "One more quick demo, getting into the dirty details.\n"
   ]
  },
  {
   "cell_type": "code",
   "execution_count": null,
   "metadata": {},
   "outputs": [],
   "source": [
    "# While using high level objects like getpixel is great, sometimes you want to deal only\n",
    "# with the actual pixel values. For this we can convert the image to an array of values.\n",
    "contents = image.tobytes()\n",
    "\n",
    "# Let's print out the very first pixel in this image\n",
    "print(image.getpixel((0, 0)))\n",
    "\n",
    "# Now lets print out the first ten bytes of the image and its total length\n",
    "for i in range(0, 9):\n",
    "    print(contents[i], end=\", \")\n",
    "print(f\"\\nTotal number of bytes is: {len(contents)}\")"
   ]
  },
  {
   "cell_type": "markdown",
   "metadata": {},
   "source": [
    "Interesting! So, we can see that the `bytes` object returned by the `tobytes()` function is just one giant sequence of\n",
    "numbers, with each pixel's R G and B values being put in order. It's important to note that `bytes` are a fundamental\n",
    "type in Python -- this isn't a list of bytes, or a byte array, it's instead a `bytes` object, and this object is one\n",
    "dimensional and immutable, meaning it can't be changed or updated.\n"
   ]
  },
  {
   "cell_type": "markdown",
   "metadata": {},
   "source": [
    "To zoom back out to the big picture -- in this lecture we've covered the fundamental data structure of a raster or\n",
    "bitmap image. At a high level it's a two dimensional grid of values, with each value representing a single pixel in a\n",
    "rectangular image. The values for a pixel change based on the mode of the image -- for an image in mode RGB we expect to\n",
    "see three entries in each value cell, with each entry being an integer indicating how much of a given color should be\n",
    "displayed. We call these color channels, and RGB is a very common mode for images. However, it's also possible to have\n",
    "single channel images where luminance is being represented instead, and this essentially makes black and white images.\n",
    "\n",
    "Now this is just the start of a really complex and interesting field which has really interesting roots in analog\n",
    "television. For instance, black and white television from the 1940s was black and white because, essentially, only\n",
    "luminance was being broadcast. And that actually made a lot of sense, the human eye is much more sensitive to luminance\n",
    "-- the amount of reflected light -- than it is to different colors -- individual wavelengths of light.\n",
    "\n",
    "I really want to dive in more to this world with you, but I think we should instead look at this python library and\n",
    "ground our investigation in how to actually manipulate images, and we'll tackle that in the next lecture.\n"
   ]
  }
 ],
 "metadata": {
  "kernelspec": {
   "display_name": "Python 3",
   "language": "python",
   "name": "python3"
  },
  "language_info": {
   "codemirror_mode": {
    "name": "ipython",
    "version": 3
   },
   "file_extension": ".py",
   "mimetype": "text/x-python",
   "name": "python",
   "nbconvert_exporter": "python",
   "pygments_lexer": "ipython3",
   "version": "3.11.9"
  }
 },
 "nbformat": 4,
 "nbformat_minor": 2
}
