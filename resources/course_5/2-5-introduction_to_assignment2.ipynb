{
 "cells": [
  {
   "cell_type": "markdown",
   "metadata": {},
   "source": [
    "# Introduction to Assignment 2\n",
    "\n",
    "We learnt a lot about image processing this week and now it's time for you to bring some of those skills into\n",
    "**WordyPy**! While there are a number of different things for you to address in the assignment -- and an architecture\n",
    "diagram which outlines them -- I've also updated the game engine to not return objects but images to you! That's right,\n",
    "from the image you need to detect whether a letter was in the correct place or not. And of course, all of my work is\n",
    "open to you, and you can learn from how I wrote the WordPy game engine. Keep in mind that you must pass the unit tests\n",
    "in order to pass the assignment, so submit your work to the autograder once you think you are ready.\n",
    "\n",
    "We're getting closer to writing a fully functional game and game playing agent. I hope you're as excited as I am to dive\n",
    "in and start rendering some WordyPy images!\n"
   ]
  }
 ],
 "metadata": {
  "kernelspec": {
   "display_name": "Python 3",
   "language": "python",
   "name": "python3"
  },
  "language_info": {
   "codemirror_mode": {
    "name": "ipython",
    "version": 3
   },
   "file_extension": ".py",
   "mimetype": "text/x-python",
   "name": "python",
   "nbconvert_exporter": "python",
   "pygments_lexer": "ipython3",
   "version": "3.1.-1"
  }
 },
 "nbformat": 4,
 "nbformat_minor": 2
}
