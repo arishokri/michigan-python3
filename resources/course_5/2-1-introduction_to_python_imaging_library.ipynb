{
 "cells": [
  {
   "cell_type": "markdown",
   "metadata": {
    "colab_type": "text",
    "id": "eQtiNRrFlYn0"
   },
   "source": [
    "## Introduction to the Python Imaging Library (PIL)\n",
    "\n",
    "In this week of the course I'm going to introduce you to a new third part library that extends the functionality of\n",
    "Python to include image manipulation. This library, called the Python Imaging Library which is often shortened to PIL,\n",
    "is the main library we use in python for dealing with image files. This library is not included with python, but we've\n",
    "installed it here in the Coursera system for you to use. Lets do a little exploration of this library in the jupyter\n",
    "notebook environment.\n",
    "\n",
    "Before we get into the guts of image manipulation though, let's just explore the library a bit in the Jupyterlab\n",
    "environment.\n"
   ]
  },
  {
   "cell_type": "code",
   "execution_count": null,
   "metadata": {
    "colab": {},
    "colab_type": "code",
    "collapsed": true,
    "id": "EvBaW-wdlYn1"
   },
   "outputs": [],
   "source": [
    "# The first thing I'm going to do is import the library.\n",
    "import PIL"
   ]
  },
  {
   "cell_type": "code",
   "execution_count": null,
   "metadata": {},
   "outputs": [],
   "source": [
    "# Now, you've already seen that some norms exist around writing documentation,\n",
    "# and the beauty of these norms is that you can expect to see them followed by\n",
    "# major third party libraries like PIL. Just like individual classes and methods,\n",
    "# modules themselves have docstrings, so let's see what the docstring for PIL\n",
    "# tells us, and we can do this right in the notebook by using the help() function.\n",
    "help(PIL)"
   ]
  },
  {
   "cell_type": "code",
   "execution_count": null,
   "metadata": {},
   "outputs": [],
   "source": [
    "# Now, lets try and parse all of this output. We have a description of the module\n",
    "# and then we have a section called \"package contents\". Each one of the items in\n",
    "# this list of contents is actually another file in the PIL package. These are\n",
    "# essentially submodules of the PIL package which we can import into our code and\n",
    "# use. We see that the main module only has a couple of classes, and that we get\n",
    "# a version number for the package as well as a link to the file which is being\n",
    "# referenced. We can actually go find that file and look at the PIL source code if\n",
    "# we wanted to!\n",
    "\n",
    "# Let's import a submodule and look at the docs\n",
    "from PIL import Image\n",
    "\n",
    "help(Image)"
   ]
  },
  {
   "cell_type": "code",
   "execution_count": null,
   "metadata": {},
   "outputs": [],
   "source": [
    "# So, there's a lot here, all of the documentation for the Image submodule!\n",
    "# We might just want to see which attributes -- methods or classes which are\n",
    "# in the submodule -- exist. If so, we can use the dir() function.\n",
    "\n",
    "dir(Image)"
   ]
  },
  {
   "cell_type": "code",
   "execution_count": null,
   "metadata": {
    "colab": {},
    "colab_type": "code",
    "id": "aWJHxE3dlYop"
   },
   "outputs": [],
   "source": [
    "# That's all still pretty overwhelming, but I spied in that dir command another\n",
    "# attribute called Image, and that's a class. So let's take a look at the docs for that\n",
    "# class. Take a look at this help command, where I pass in Image.Image. Do you understand\n",
    "# what I'm doing here?\n",
    "\n",
    "help(Image.Image)"
   ]
  },
  {
   "cell_type": "code",
   "execution_count": null,
   "metadata": {},
   "outputs": [],
   "source": [
    "# One of the beautiful things about the Jupyter environment is that you can\n",
    "# explore your code a bit, so please don't hesitate to do so! Let's see\n",
    "# what data types our items are.\n",
    "print(type(PIL))\n",
    "print(type(Image))\n",
    "print(type(Image.Image))\n",
    "\n",
    "# And, before I execute this cell, can you guess what the output will be?\n",
    "# What are you expecting the type(PIL), type(Image), and type(Image.Image)\n",
    "# to be?"
   ]
  },
  {
   "cell_type": "markdown",
   "metadata": {},
   "source": [
    "So, at the top level of this package we have a module, `PIL`. This in turn has several submodules, such as `Image`. That\n",
    "submodule actually has a class in it, call `Image` and, even though it maybe makes things a bit more confusing, it's\n",
    "allowed to have a class name and a module name be the same thing. We can use the `help()` function in Python to quickly\n",
    "check the documentation of a given class, module, or function. I have to confess, this isn't what I normally do, at\n",
    "least not for learning a new library. I go to the web page for the library and check out the documentation -- if the\n",
    "library is popular this is usually good enough. But where I do use the inline help function is with recalling methods of\n",
    "classes for a library which I use but not frequently. Let's take a look at this in Jupyter.\n"
   ]
  },
  {
   "cell_type": "code",
   "execution_count": null,
   "metadata": {},
   "outputs": [],
   "source": [
    "# Let's take a look at what attributes exist on the Image class\n",
    "dir(Image.Image)"
   ]
  },
  {
   "cell_type": "code",
   "execution_count": null,
   "metadata": {},
   "outputs": [],
   "source": [
    "# Ok, there are a bunch of private methods here, denoted by the leading underscores,\n",
    "# and some public ones. Let's take a look at this one called load\n",
    "help(Image.Image.load)"
   ]
  },
  {
   "cell_type": "code",
   "execution_count": null,
   "metadata": {},
   "outputs": [],
   "source": [
    "# We see that this load function takes no parameters other than self,\n",
    "# and that it's going to return an image object as either a PixelAccess\n",
    "# object or a PIL.PyAccess object. You'll notice here that the documentation\n",
    "# is in a slightly different form from the google style docstrings we've\n",
    "# been using. This alternative method is called reStructuredText, or rst, and\n",
    "# I would say it's the second most common form of structure documentation in the Python language.\n",
    "\n",
    "# It turns out that creating a new Image object in PIL follows the factory\n",
    "# style pattern I showed you in the previous module. It's actually the Image\n",
    "# module which has a function associated with it, and this returns a new\n",
    "# Image object. Let's take a look at the docs for the open function.\n",
    "help(Image.open)"
   ]
  },
  {
   "cell_type": "markdown",
   "metadata": {},
   "source": [
    "So, a couple of things to notice here. First, this is a function, and not a method, as we can see there is no \"self\".\n",
    "This gets a little nuanced, but in python functions and methods are objects themselves, and in this case the function is\n",
    "associated with the module and not with another class. We see there are three different parameters which can be passed\n",
    "in, `fp`, `mode`, and `formats`, that `mode` and `formats` have default values, and that the result of calling this\n",
    "function is an `Image` object. We also get some handy information about the different kinds of exceptions that might\n",
    "occur.\n",
    "\n",
    "Let's talk about this first parameter, `fp`, as it's very common to see in Python. The docstring says this is a\n",
    "filename, so a string, or an os.PathLike or file object. Helpfully, the docs indicate that this means that any object\n",
    "with a `read`, `seek`, and `tell` method should be accepted and used. This is very similar to the python duck typing\n",
    "that I showed you in the last module with the `Adventurer` and the `Monster` classes each having `hit_points`\n",
    "attributes. Instead of strictly enforcing that parameters are of a given type, the norm in the Python world is to just\n",
    "try and use them as you want to and throw an exception if they do not adhere to the scheme you need.\n",
    "\n",
    "Ok, I've done a lot of talking in this lecture about how to use the python help functions, but we haven't even seen an\n",
    "image yet. Let's remedy that and load our first image!\n"
   ]
  },
  {
   "cell_type": "code",
   "execution_count": null,
   "metadata": {
    "colab_type": "text",
    "id": "-RdgfWVBlYo-"
   },
   "outputs": [],
   "source": [
    "# One of the ways we could create a new image object is through the PIL.Image.open()\n",
    "# function, and this may return a PIL.Image object. Let's try that using a picture of\n",
    "# the University of Michigan.\n",
    "\n",
    "file = \"north_quad.jpg\"\n",
    "image = Image.open(file)\n",
    "print(image)"
   ]
  },
  {
   "cell_type": "code",
   "execution_count": null,
   "metadata": {
    "colab": {},
    "colab_type": "code",
    "id": "DLVfTdxBlYpE"
   },
   "outputs": [],
   "source": [
    "# Ok, we see that this returns us a kind of PIL.JpegImagePlugin.JpegImageFile. At first this might\n",
    "# seem a bit confusing, since because we were told by the docs that we should be expecting a\n",
    "# PIL.Image.Image object back. But this is just object inheritance working! In fact, the object\n",
    "# returned is both an Image and a JpegImageFile.\n",
    "\n",
    "# Let me show you using some more advanced pieces of the python standard library using the builtin\n",
    "# inspect module. I'm going to use the getmro() function, which stands for \"get method resolution order\",\n",
    "# and this will show you the inheritance chain for the object.\n",
    "\n",
    "import inspect\n",
    "\n",
    "print(\"The type of the image is \" + str(type(image)))\n",
    "inspect.getmro(type(image))"
   ]
  },
  {
   "cell_type": "code",
   "execution_count": null,
   "metadata": {
    "colab_type": "text",
    "collapsed": true,
    "id": "DQ0ozVWXlYpF"
   },
   "outputs": [],
   "source": [
    "# Great, now we see that this is indeed a JpegImageFile, which is a subclass of ImageFile, which is a\n",
    "# a subclass of Image, which is a subclass of object.\n",
    "\n",
    "# But, how do we view the image? It turns out that the image object has a show() method and, if you\n",
    "# read the documentation for that, it sounds promising. Let's try that out.\n",
    "image.show()"
   ]
  },
  {
   "cell_type": "markdown",
   "metadata": {},
   "source": [
    "Hrm, that didn't seem to have the intended effect. The problem is that the image is stored remotely, on Coursera's\n",
    "server, but show() tries to show it locally to you. So, if the Coursera server software was running on someone's\n",
    "workstation in Mountain View California, where Coursera has its offices, then this would have just popped up a picture\n",
    "of my office building.\n"
   ]
  },
  {
   "cell_type": "code",
   "execution_count": null,
   "metadata": {
    "colab_type": "text",
    "id": "XF2qDmRjlYpJ"
   },
   "outputs": [],
   "source": [
    "# Instead, we want to render the image in the Jupyter notebook. It turns out Jupyter has a function\n",
    "# which can help with this.\n",
    "from IPython.display import display\n",
    "\n",
    "display(image)"
   ]
  },
  {
   "cell_type": "markdown",
   "metadata": {},
   "source": [
    "Great, now you should be able to see a picture of my office building, the North Quad complex.\n",
    "\n",
    "We covered a lot of ground in this lecture, going over the built in help functionality in python, the `dir()` function\n",
    "which lets you list attributes of modules or classes, as well as a base introduction to the python imaging library, PIL,\n",
    "and how to load an image and display it in Jupyter. I untangled a bit here how you can programmatically see the object\n",
    "inheritance hierarchy, using a JPG image as an example.\n",
    "\n",
    "With that review in hand, I want to dive into the fundamentals of images in computer systems, so let's tackle that in\n",
    "the next lecture.\n"
   ]
  }
 ],
 "metadata": {
  "colab": {
   "name": "Module 1.ipynb",
   "provenance": [],
   "version": "0.3.2"
  },
  "kernelspec": {
   "display_name": "Python 3",
   "language": "python",
   "name": "python3"
  },
  "language_info": {
   "codemirror_mode": {
    "name": "ipython",
    "version": 3
   },
   "file_extension": ".py",
   "mimetype": "text/x-python",
   "name": "python",
   "nbconvert_exporter": "python",
   "pygments_lexer": "ipython3",
   "version": "3.11.9"
  }
 },
 "nbformat": 4,
 "nbformat_minor": 2
}
