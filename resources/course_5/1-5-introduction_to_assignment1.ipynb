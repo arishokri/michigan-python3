{
 "cells": [
  {
   "cell_type": "markdown",
   "metadata": {},
   "source": [
    "# Introduction to Assignment 1\n",
    "\n",
    "As much as I like dungeon crawlers, I also like word games, and so that's the topic of the assignment for this course.\n",
    "Assignment one is fairly straightforward, but requires attention to detail to solve correctly. Your job is to build a\n",
    "bot -- an automatic program or computational agent -- which is going to play the game **WordyPy** a not-so-original word\n",
    "guessing game I made. In the assignment I have given you the rules of the game, as well as a class diagram that must be\n",
    "strictly followed in order for your bot to be able to play the game correctly. Keep in mind with this assignment you\n",
    "don't have to create a very intelligent bot, all you need to be able to do is pass the unit tests which I've created\n",
    "based on the rules and the class diagram given in the assignment.\n",
    "\n",
    "Now, I've actually done some of the heavy lifting work here and written the `GameEngine` you'll be using. It's important\n",
    "that you don't change this or modify other code unless the instructions explicitly ask you to, as the autograder uses\n",
    "what I've written to determine whether you have correctly solved the problem or not. But I've left all of the code there\n",
    "and open for you to explore, and hope you enjoy tackling this week's assignment.\n"
   ]
  }
 ],
 "metadata": {
  "kernelspec": {
   "display_name": "Python 3",
   "language": "python",
   "name": "python3"
  },
  "language_info": {
   "codemirror_mode": {
    "name": "ipython",
    "version": 3
   },
   "file_extension": ".py",
   "mimetype": "text/x-python",
   "name": "python",
   "nbconvert_exporter": "python",
   "pygments_lexer": "ipython3",
   "version": "3.1.-1"
  }
 },
 "nbformat": 4,
 "nbformat_minor": 2
}
