{
 "cells": [
  {
   "cell_type": "markdown",
   "metadata": {},
   "source": [
    "## Introducing Optical Character Recognition\n",
    "\n",
    "Optical Character Recognition, or OCR, is a very hard problem. The goal is simple -- take an image which has some\n",
    "natural language in it and convert it to a digital string representation so we can process the text. Numerous challenges\n",
    "arise, the first being that characters in an image might not be clear, or they might be clear but of different fonts,\n",
    "sizes, languages, or orientations in the image. While the field is old -- I've been using OCR since the first scanner I\n",
    "owned, which would have been in the late 1990s -- there have been remarkable breakthroughs which have come with\n",
    "advancements in the field of deep learning. Beyond the techniques used in deep learning, transformer-based artificial\n",
    "intelligence systems, such as ChatGPT, have made this even easier now that media inputs can be manipulated by AI as\n",
    "well. But, using large language models for image recognition and process is a different course, so let's instead talk\n",
    "about how to do OCR work more directly in python.\n"
   ]
  },
  {
   "cell_type": "markdown",
   "metadata": {},
   "source": [
    "The first thing to note is that, just like with the python imaging library, using OCR in python requires the support of\n",
    "external libraries. In this case, we will use the pytesseract library, which is a python wrapper for the Tesseract OCR\n",
    "engine. Now this is a bit different than with the case of PIL -- with images, we just installed the python library and\n",
    "were done, but with pytesseract we first have to install the tesseract command line tool and then we have to install the\n",
    "python wrapper library. This is a pretty common pattern with python libraries, where sometimes they leave the heavy\n",
    "lifting of computation to a tool which is used in a variety of different contexts.\n",
    "\n",
    "Of course, we've installed that here for you, so let's take a look at how we can start doing OCR in python.\n"
   ]
  },
  {
   "cell_type": "code",
   "execution_count": null,
   "metadata": {},
   "outputs": [],
   "source": [
    "# Pytesseract builds on and uses PIL, so let's bring in that module,\n",
    "# as well as the new module pytesseract\n",
    "import PIL\n",
    "from PIL import Image\n",
    "from IPython.display import display\n",
    "import pytesseract\n",
    "\n",
    "# The very first thing we probably want to do is just see if we can detect\n",
    "# some text. We can do that with the image_to_string function. Note, there are\n",
    "# no methods here, pytesseract is a simple module with a few functions.\n",
    "newspaper_article = Image.open(\"two_col.png\")\n",
    "display(newspaper_article)\n",
    "\n",
    "# Now, let's see if we can extract the text from this image\n",
    "text = pytesseract.image_to_string(newspaper_article)\n",
    "print(text)"
   ]
  },
  {
   "cell_type": "markdown",
   "metadata": {},
   "source": [
    "Ok, so I was a bit tricky here in that I'm using a two column newspaper article and it's got a few different font\n",
    "choices -- some bolding and italics at the top with the reporters name, and some horizontal bars separating the header\n",
    "from the article. It's also fully justified text, which means the spacing between words is a variable amount, and this\n",
    "can be a challenge for some OCR systems too. However, to my read, this is almost a perfect replication of the text, with\n",
    "the one error being in the last paragraph, which starts as \"I did wait\" but was interpreted as \"IT did wait\".\n"
   ]
  },
  {
   "cell_type": "code",
   "execution_count": null,
   "metadata": {},
   "outputs": [],
   "source": [
    "# Another handy function is image_to_data. This function will return the\n",
    "# bounding box coordinates, as well as the text detected in each box. This\n",
    "# can be useful for visualizing how the OCR layout engine is working.\n",
    "# This also demonstrates some of the challenges in working with python wrappers\n",
    "# for C libraries. The return value of the image_to_data function is a string\n",
    "# which is formatted as a tab separated values because it's meant to be easily\n",
    "# read by humans on the command line. Let's take a look.\n",
    "\n",
    "boxes = pytesseract.image_to_data(newspaper_article)\n",
    "\n",
    "# Now we print out the boxes text line by line...\n",
    "for box in boxes.splitlines():\n",
    "    print(box)"
   ]
  },
  {
   "cell_type": "markdown",
   "metadata": {},
   "source": [
    "Normally I would try and format this using a library which can handle spreadsheets in python, like pandas, and if you're\n",
    "interested in that and maybe interested in doing data science with python the University of Michigan has courses here on\n",
    "the Coursera platform that you might want to check out. But let's take a look at this table first. We see that tesseract\n",
    "returns a level, page number, block number, paragraph number, and line and word number for each and every word it\n",
    "detects, including whitespace. It also includes the top left corner, in pixels, and the width and height of that text.\n",
    "Finally, it includes the text itself as a string, and a confidence in its correctness. That confidence is interesting --\n",
    "if we scroll down we can see that the confidence in the incorrectly identified text \"IT\" is quite low, at 27, while the\n",
    "confidence for most of the other words is well above 90.\n"
   ]
  },
  {
   "cell_type": "code",
   "execution_count": null,
   "metadata": {},
   "outputs": [],
   "source": [
    "# Let's draw those bounding boxes on the image. This is good practice and then we can see how tesseract itself is working.\n",
    "\n",
    "from PIL import ImageDraw\n",
    "\n",
    "draw = ImageDraw.Draw(newspaper_article)\n",
    "\n",
    "for line in boxes.splitlines()[1:]:\n",
    "    x, y, w, h, c = [float(p) for p in line.split(\"\\t\")[6:11]]\n",
    "    if c > 0:\n",
    "        draw.rectangle((x, y, x + w, y + h), outline=\"red\", width=2)\n",
    "\n",
    "display(newspaper_article)"
   ]
  },
  {
   "cell_type": "markdown",
   "metadata": {},
   "source": [
    "Now, I've deliberately written things in a very tight format here, and that's mostly for pedagogically reasons. By the\n",
    "end of this course you should be able to read this style of python and understand what's going on. It might not be super\n",
    "fast for you to read, but let's deconstruct this one line in particular:\n",
    "`x, y, w, h, c = [int(p) for p in line.split(\"\\t\")[6:11]]`\n",
    "\n",
    "On the left hand side you can see that I've got several different variables, x, y, w, h, and c. This alone says to\n",
    "python that we're going to do tuple unpacking, so the right hand side of this argument needs to be an iterable -- like a\n",
    "list or tuple -- and needs to have five and only five values. If there are more or less than five values, python will\n",
    "throw a `ValueError`.\n",
    "\n",
    "Now, looking at the right hand side, we see everything is wrapped in square brackets, the indexing operator or list\n",
    "construction syntax in python. What this means is that we are defining a list of items, either directly, where they are\n",
    "separated by commas, or through a list comprehension. It's actually a list comprehension that I'm using here, which\n",
    "means that right hand side is going to broken up into four parts, the first being the function we want to apply to each\n",
    "data element, then the word `for`, then the variable name we're going to use, and I just chose the letter `p` for\n",
    "brevity, then the word `in` and then some sequence or iterable. The function I actually want to apply to everything is\n",
    "just the function `float` which is a builtin method of defining new floating point numbers, and when you pass in\n",
    "parameter like this is does type conversion to make the input a floating point number. This is often referred to as type\n",
    "casting.\n",
    "\n",
    "Alright, so looking further on the right hand side we can see that `p` is defined in relation to the results of\n",
    "line.split. Line is a string value, and the split method just breaks line up by whatever string you provide as an\n",
    "argument. I've use `\"\\t\"` which means a tab character. But I actually only want five values, and the line has eleven, so\n",
    "I've used the python slicing syntax with the indexing operator, indicating that I only want items 6 through 11\n",
    "inclusive. This gives me exactly five items, which are then all changed into integers and bound to the variables x, y,\n",
    "w, h, and c.\n",
    "\n",
    "Now, that was a big discussion, but I don't want this code to confuse or overwhelm you. With python, just go line by\n",
    "line, chunk by chunk, and you can reason out what's happening in other people's code. And this is a bit of a superpower,\n",
    "because once you can read other peoples code you can learn from what they've written, and the world is filled with\n",
    "wonderful open source libraries you can explore to enhance your own work.\n",
    "\n",
    "Actually, maybe now would be a good time to clean this code up. Why don't you take a stab at turning this into a\n",
    "function, with documentation of course, which takes in an image and returns a new image with all of these bounding boxes\n",
    "on it.\n"
   ]
  },
  {
   "cell_type": "code",
   "execution_count": null,
   "metadata": {},
   "outputs": [],
   "source": [
    "# Let's take a look at another image, this one a bit more free form\n",
    "# and which comes from an old Wold War One poster from the Library of\n",
    "# Congress.\n",
    "\n",
    "\n",
    "def ocr_with_boxes(image):\n",
    "    from PIL import ImageDraw\n",
    "\n",
    "    acopy = image.copy()\n",
    "    draw = ImageDraw.Draw(acopy)\n",
    "    for line in pytesseract.image_to_data(acopy).splitlines()[1:]:\n",
    "        x, y, w, h, c = [float(p) for p in line.split(\"\\t\")[6:11]]\n",
    "        if c > 0:\n",
    "            draw.rectangle((x, y, x + w, y + h), outline=\"red\", width=2)\n",
    "    return acopy\n",
    "\n",
    "\n",
    "display(ocr_with_boxes(Image.open(\"food.jpg\")))\n",
    "print(pytesseract.image_to_string(Image.open(\"food.jpg\")))"
   ]
  },
  {
   "cell_type": "markdown",
   "metadata": {},
   "source": [
    "Ok, we see a lot of things going on here. The OCR engine does a passable job, but not good enough for a task like deep\n",
    "searching or closed captioning. What's handy though is that we can combine with OCR our existing image processing\n",
    "abilities from last week, and we'll do that in the next lecture.\n"
   ]
  }
 ],
 "metadata": {
  "colab": {
   "name": "Module 1.ipynb",
   "provenance": [],
   "version": "0.3.2"
  },
  "kernelspec": {
   "display_name": "Python 3",
   "language": "python",
   "name": "python3"
  },
  "language_info": {
   "codemirror_mode": {
    "name": "ipython",
    "version": 3
   },
   "file_extension": ".py",
   "mimetype": "text/x-python",
   "name": "python",
   "nbconvert_exporter": "python",
   "pygments_lexer": "ipython3",
   "version": "3.11.9"
  }
 },
 "nbformat": 4,
 "nbformat_minor": 2
}
