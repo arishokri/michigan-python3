{
 "cells": [
  {
   "cell_type": "markdown",
   "metadata": {},
   "source": [
    "# Converting Class Diagrams to Code\n"
   ]
  },
  {
   "cell_type": "markdown",
   "metadata": {},
   "source": [
    "Now that we have some basic classes we can being to actually write the python code behind them. You've done this before,\n",
    "but here we'll go sequentially and create each class based on the name it has been given in our diagram and initialize\n",
    "attributes to have some default values.\n",
    "\n",
    "![The class diagram created in the previous lecture, showing the Adventurer, Item, Cave, Room, and Monster classes](1-1-designing_python_projects_diagram.svg)\n"
   ]
  },
  {
   "cell_type": "markdown",
   "metadata": {},
   "source": [
    "As I go through and do this, I'm going to document my code following the\n",
    "[Google Python Style Guide](https://google.github.io/styleguide/pyguide.html). You don't have to use this format, but\n",
    "it's pretty commonly used and makes for nice clean code. It also enables development environments, like Jupyter or VS\n",
    "Code, to help you a bit by reminding you what a class, attribute, or function might mean. The main form of the\n",
    "documentation in this style guide is a triple quoted string. Here's an example with the Adventurer.\n"
   ]
  },
  {
   "cell_type": "code",
   "execution_count": null,
   "metadata": {},
   "outputs": [],
   "source": [
    "# Note that by convention classes start with a capital letter in Python. Then we follow\n",
    "# that with a triple quoted string. The first sentence of the string described the class\n",
    "# concisely, then we have any more details we might want to add below that. Finally, we\n",
    "# end with a section called Attributes which lists the name and details of each data\n",
    "# attribute we expect to be in the class. We do not put anything about functions or methods\n",
    "# in this documentation block.\n",
    "\n",
    "\n",
    "class Adventurer:\n",
    "    \"\"\"Represents the user in our game, a fearless Adventurer.\n",
    "\n",
    "    The Adventurer moves throughout the Cave system going from Room to Room trying to slay Monsters.\n",
    "\n",
    "    Attributes:\n",
    "        name: The display name for the character.\n",
    "        dexterity: Dexterity, on a scale of 1-18.\n",
    "        strength: Strength, on a scale of 1-18.\n",
    "        constitution: Constitution, on a scale of 1-18.\n",
    "        hit_points: An integer, when <=0 the character is dead.\n",
    "        bag: Which holds an unsorted list of Item objects the character has on them.\n",
    "    \"\"\""
   ]
  },
  {
   "cell_type": "markdown",
   "metadata": {},
   "source": [
    "Great, now we've created an Adventurer class, which means we could instantiate this class to create Adventurer objects!\n",
    "But, the objects don't have anything in them, except documentation. So, let's create an init function for that\n",
    "Adventurer which sets the default values for those different attributes. Remember that in python you don't have to\n",
    "declare your object level attributes ahead of time if you don't want to, but it's common practice to initialize them in\n",
    "the `__init__` function, as well as document them in the class docstring as we just did.\n",
    "\n",
    "In this specific case, I'm going to require that a name be provided to initialized an Adventurer, but for everything\n",
    "else I'll come up with sensible default values.\n"
   ]
  },
  {
   "cell_type": "code",
   "execution_count": 1,
   "metadata": {
    "metadata": {}
   },
   "outputs": [],
   "source": [
    "# I'm going to import random here so I can use it to generate some good default values\n",
    "import random\n",
    "\n",
    "\n",
    "class Adventurer:\n",
    "    \"\"\"Represents the user in our game, a fearless Adventurer.\n",
    "\n",
    "    The Adventurer moves throughout the Cave system going from Room to Room trying to slay Monsters.\n",
    "\n",
    "    Attributes:\n",
    "        name: The display name for the character.\n",
    "        dexterity: Dexterity, on a scale of 1-18.\n",
    "        strength: Strength, on a scale of 1-18.\n",
    "        constitution: Constitution, on a scale of 1-18.\n",
    "        hit_points: An integer, when <=0 the character is dead.\n",
    "        bag: Which holds an unsorted list of Item objects the character has on them.\n",
    "    \"\"\"\n",
    "\n",
    "    # Just like the class definition, each method or function associated with a class\n",
    "    # should have a triple quoted string that describes it and the arguments it takes.\n",
    "    # For methods, the first argument is always self, which is a reference to the object\n",
    "    # being called, and we do not include that in the args list.\n",
    "    def __init__(self, name: str) -> None:\n",
    "        \"\"\"Initializes the Adventurer with a name and some random stats.\n",
    "\n",
    "        Args:\n",
    "          name: The name of the Adventurer.\n",
    "        \"\"\"\n",
    "        # Set the name to whatever the caller has passed in. Remember our field and our\n",
    "        # argument can be the same, as is the case with the \"name\" here. We distinguish\n",
    "        # between these by using self.name to refer to the object attribute field.\n",
    "        self.name: str = name\n",
    "\n",
    "        # Create default values for constitution and strength between 3-18\n",
    "        self.strength: int = random.randint(3, 18)\n",
    "        self.constitution: int = random.randint(3, 18)\n",
    "\n",
    "        # Let's set the hit points of the character to be the constitution + a random offset\n",
    "        self.hit_points: int = self.constitution + random.randint(1, 8)\n",
    "\n",
    "        # The bag starts as empty!\n",
    "        self.bag: list[Item] = []"
   ]
  },
  {
   "cell_type": "markdown",
   "metadata": {},
   "source": [
    "Ok, we've created our `Adventurer` class now! As you can see, the process of taking the UML class diagram we created in\n",
    "the previous lecture and converting it into a class is relatively straight forward. I, personally, really like\n",
    "diagraming and drawing out my ideas on a whiteboard before writing any code. It helps me quickly iterate on the main\n",
    "concepts I want included in my software, and helps me find hidden relationships I didn't initially expect.\n"
   ]
  },
  {
   "cell_type": "markdown",
   "metadata": {},
   "source": [
    "But something is kind of odd about this `Adventurer` class -- we don't have an `Item` defined yet, but I was able to\n",
    "execute that cell in Jupyter. So let me ask you -- why didn't we get an error when I ran that last cell?\n"
   ]
  },
  {
   "cell_type": "markdown",
   "metadata": {},
   "source": [
    "Ok, well, remember that when we execute a cell in Jupyter the contents of that cell are sent to the Python interpreter.\n",
    "Since this is all done within a class definition, nothing inside of the class is actually instantiated yet. That is, we\n",
    "have an Adventurer class, but we do not have any Adventurer objects. If we tried to create a new Adventurer, that's when\n",
    "python would actually execute the code we've written.\n"
   ]
  },
  {
   "cell_type": "code",
   "execution_count": 2,
   "metadata": {},
   "outputs": [],
   "source": [
    "# Let's actually instantiate a new Adventurer!\n",
    "adventurer = Adventurer(\"Sir Christopher\")"
   ]
  },
  {
   "cell_type": "markdown",
   "metadata": {},
   "source": [
    "Ok, now we have actually created an Adventurer object! But we still didn't get an error thrown. Why?\n"
   ]
  },
  {
   "cell_type": "markdown",
   "metadata": {},
   "source": [
    "In this case, we just referred to the Item class in a type annotation. We are telling the python developer environments\n",
    "that this bag associated with Sir Christopher is going to be a list of Item objects. But the list is empty! We haven't\n",
    "actually created any item objects! This is how python is very different then many other languages -- the type\n",
    "annotations are often called type hints, and really are only there for development tools and are ignored by the python\n",
    "interpreter itself. If you've forgotten some of these concepts: type hints, objects and classes, and initialization\n",
    "functions, don't hesitate to go back to the previous courses to review those lecture videos.\n",
    "\n",
    "Now, let's create the Item class.\n"
   ]
  },
  {
   "cell_type": "code",
   "execution_count": null,
   "metadata": {},
   "outputs": [],
   "source": [
    "class Item:\n",
    "    \"\"\"An item which can be held by an Adventurer.\n",
    "\n",
    "    Items are weapons in this game, and may have a range of possible damages they can inflict.\n",
    "\n",
    "    Attributes:\n",
    "        name: The display name for the item.\n",
    "        min_dmg: The minimum damage an item can cause, cannot be negative.\n",
    "        max_dmg: The maximum damage an item can cause, cannot be negative.\n",
    "    \"\"\"\n",
    "\n",
    "    def __init__(self, name: str, min_dmg: int, max_dmg: int) -> None:\n",
    "        \"\"\"Initializes the Item and it's minimum and maximum damage.\n",
    "\n",
    "        Args:\n",
    "            name: A description of the Item being used.\n",
    "            min_dmg: The minimum damage the item can cause.\n",
    "            max_dmg: The maximum damage the item can cause.\n",
    "        \"\"\"\n",
    "        # For the Adventurer class we didn't do any input error checking, but frankly we\n",
    "        # probably should, so let's do that here for items. If the user passes in an item\n",
    "        # without a name let's set it to unknown\n",
    "        if name != None:\n",
    "            self.name: str = name\n",
    "        else:\n",
    "            self.name: str = \"Unknown Item\"\n",
    "\n",
    "        # I'm going to assume the minimum and maximum damage are being passed correctly\n",
    "        self.min_dmg: int = min_dmg\n",
    "        self.max_dmg: int = max_dmg"
   ]
  },
  {
   "cell_type": "markdown",
   "metadata": {},
   "source": [
    "Great, we now have a class for the `Adventurer` and any `Item` objects we want them to hold!\n",
    "\n",
    "Now, we have a few more classes that need to be created -- one for the `Monster` that an `Adventurer` might run into,\n",
    "and then one for the `Cave` system which contains a list of `Room` objects, and of course a `Room` is going to have in\n",
    "it a `Monster` and an `Item`. I think you probably have enough knowledge now to create these yourself. So here's my\n",
    "recommendation, open up a new jupyter notebook and try and create these three classes. You can compare them to my\n",
    "solution towards the end of this module, but trying this on your own is absolutely the best way to check your own\n",
    "understanding and strengthen your own knowledge.\n",
    "\n",
    "In the next lecture I want to show you how to capture the interactions between classes through more diagraming\n",
    "techniques.\n"
   ]
  }
 ],
 "metadata": {
  "kernelspec": {
   "display_name": "Python 3 (ipykernel)",
   "language": "python",
   "name": "python3"
  },
  "language_info": {
   "codemirror_mode": {
    "name": "ipython",
    "version": 3
   },
   "file_extension": ".py",
   "mimetype": "text/x-python",
   "name": "python",
   "nbconvert_exporter": "python",
   "pygments_lexer": "ipython3",
   "version": "3.11.6"
  }
 },
 "nbformat": 4,
 "nbformat_minor": 4
}
