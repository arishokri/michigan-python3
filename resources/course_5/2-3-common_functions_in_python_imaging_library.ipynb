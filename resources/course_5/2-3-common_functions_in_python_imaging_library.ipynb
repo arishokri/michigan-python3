{
 "cells": [
  {
   "cell_type": "markdown",
   "metadata": {},
   "source": [
    "## Common Functions in the Python Imaging Library\n",
    "\n",
    "In this lecture I'm just going to show you a few more functions of the python imaging library. I'm not going to go into\n",
    "much detail about how they work, but instead give you an overview of the things you can do with this library.\n"
   ]
  },
  {
   "cell_type": "code",
   "execution_count": null,
   "metadata": {
    "colab_type": "text",
    "collapsed": true,
    "id": "V5RAZOCalYpP"
   },
   "outputs": [],
   "source": [
    "# First, lets import the PIL module as well as the PIL.Image submodule\n",
    "import PIL\n",
    "from PIL import Image\n",
    "\n",
    "# And lets import the display functionality\n",
    "from IPython.display import display\n",
    "\n",
    "# And finally, lets load the image we were working with last time\n",
    "file = \"north_quad.jpg\"\n",
    "image = Image.open(file)\n",
    "\n",
    "# And let's render it\n",
    "display(image)"
   ]
  },
  {
   "cell_type": "code",
   "execution_count": null,
   "metadata": {},
   "outputs": [],
   "source": [
    "# First, let's take a look at how we save images, using the save method.\n",
    "help(image.save)"
   ]
  },
  {
   "cell_type": "code",
   "execution_count": null,
   "metadata": {
    "colab": {},
    "colab_type": "code",
    "id": "AKQi19ZhlYpQ",
    "outputId": "789ba23c-010f-48e4-8125-0dca94507ad6"
   },
   "outputs": [],
   "source": [
    "# The save method has a couple of parameters which are interesting. The first, called fp, is the filename\n",
    "# we want to save the object to. The second, format, is interesting, it allows us to change the type of\n",
    "# the image, but the docs tell us that this should be done automatically by looking at the file extension\n",
    "# as well. Lets give it a try -- this file was originally a JpegImageFile, but I bet if we save it with a\n",
    "# .png format and read it in again we'll get a different kind of file\n",
    "\n",
    "# Save as PNG (Portable Network Graphics)\n",
    "image.save(\"north_quad.png\")\n",
    "\n",
    "# Reload the image from the PNG file\n",
    "image = Image.open(\"north_quad.png\")\n",
    "\n",
    "# Inspect it\n",
    "import inspect\n",
    "\n",
    "inspect.getmro(type(image))"
   ]
  },
  {
   "cell_type": "code",
   "execution_count": null,
   "metadata": {},
   "outputs": [],
   "source": [
    "# Indeed, this created a new file, and we can see this new object is actually a PngImageFile object, which\n",
    "# is a subclass of ImageFile, which is a subclass of Image, which is a subclass of object.\n",
    "# For the purposes of this class the difference in image formats isn't so important, but it's nice that you can\n",
    "# explore how a library works to understand what's going on under the hood."
   ]
  },
  {
   "cell_type": "markdown",
   "metadata": {},
   "source": [
    "The PIL library also has some nice image filters to add some effects to our images. It does this through a function\n",
    "called filter(). This function takes in a filter object, and all of the filters which are available to us are stored in\n",
    "the ImageFile object. Now, I recommend you explore the documentation a bit here, and you can use either the web or the\n",
    "built in help function in Python. But let me just show you a couple of filters to get started.\n"
   ]
  },
  {
   "cell_type": "code",
   "execution_count": null,
   "metadata": {
    "colab": {},
    "colab_type": "code",
    "id": "-u64K-hmlYpX",
    "outputId": "60823bac-10ed-447d-f09d-4eddb4e7cb34"
   },
   "outputs": [],
   "source": [
    "# I'll import the ImageFilter module\n",
    "from PIL import ImageFilter\n",
    "\n",
    "# And I'll use the filter method to apply a blur to the image\n",
    "blurred_image = image.filter(ImageFilter.BLUR)\n",
    "display(blurred_image)"
   ]
  },
  {
   "cell_type": "markdown",
   "metadata": {
    "colab_type": "text",
    "id": "Ah-dI9KHlYpa"
   },
   "source": [
    "I encourage you to pause the video here, jump into the notebooks, and start experimenting with some of the other\n",
    "filters. The EMBOSS and SHARPEN filters, for instance, are interesting. Or for a challenge, check out the BoxBlur or\n",
    "MedianFilter functions and look at their parameters to get an idea of how they are used. I'm not going to talk more\n",
    "about these filters in this class, so this is an opportunity to play a bit before we move on.\n"
   ]
  },
  {
   "cell_type": "markdown",
   "metadata": {},
   "source": [
    "As you have seen previously, behind each Image object the PIL library holds a grid of pixel values. A pixel value\n",
    "describes the color of a single dot in our image, and thus an image has a width and height, and we start with the\n",
    "origin, or (0,0), in the upper left hand corner. One of the things we can do is take a portion of the image out by\n",
    "cropping it. Let's take a look at the documentation for the crop method.\n"
   ]
  },
  {
   "cell_type": "code",
   "execution_count": null,
   "metadata": {},
   "outputs": [],
   "source": [
    "# How can we crop an image?\n",
    "help(image.crop)"
   ]
  },
  {
   "cell_type": "code",
   "execution_count": null,
   "metadata": {},
   "outputs": [],
   "source": [
    "# We see here that to crop an image we pass in a \"box\", and this is a common concept called a \"bounding box\".\n",
    "# That should be passed as a tuple with four values, the left, upper, right, and lower pixel. The crop method\n",
    "# then returns a new image object representing the cropped image.\n",
    "\n",
    "# So, if we wanted to get the Michigan logo out of this image, we might start with the top left at position\n",
    "# 570,655, and the bottom right at position 620,698.\n",
    "display(image.crop((570, 655, 620, 698)))"
   ]
  },
  {
   "cell_type": "markdown",
   "metadata": {},
   "source": [
    "So, there's a couple of things we should talk about here. First, the bounding box is a very common pattern used in image\n",
    "manipulation and recognition to indicate regions of interest in a picture. Another common pattern is the immutability of\n",
    "an image -- that the operations -- like this cropping of the image -- generally don't change the image, but return a\n",
    "copy of the image with changes made. Now, this is not always true, but many libraries use this practice, so it's one to\n",
    "look out for.\n",
    "\n",
    "But lets talk about those pixel values for the bounding box. Did I just eyeball it? Well, yes, sort of. It took me a few\n",
    "tries, but instead of cropping the image over and over again, I actually rendered the bounding box on top of the image\n",
    "to see where it laid. Let me show you how I did that.\n"
   ]
  },
  {
   "cell_type": "code",
   "execution_count": null,
   "metadata": {},
   "outputs": [],
   "source": [
    "# A strategy I like to do is try and draw the bounding box directly on the image, when I'm trying to line things\n",
    "# up. We can draw on images using the ImageDraw module. I'm not going to go into this in detail, but here's a\n",
    "# quick example of how. I might draw the bounding box in this case. First, let's import the ImageDraw module.\n",
    "from PIL import ImageDraw\n",
    "\n",
    "# The ImageDraw module can create for us new Draw objects. To initialize a Draw object we need to pass in the\n",
    "# image we want to draw on.\n",
    "drawing_object = ImageDraw.Draw(image)\n",
    "\n",
    "# We can draw various shapes, but let's start with a rectangle. The rectangle method takes a list of four\n",
    "# values, the left, upper, right, and lower pixel. We'll draw a red rectangle around the Michigan logo.\n",
    "drawing_object.rectangle((570, 655, 620, 698), fill=None, outline=\"red\", width=5)\n",
    "display(image)"
   ]
  },
  {
   "cell_type": "markdown",
   "metadata": {
    "notebookRunGroups": {
     "groupValue": "1"
    }
   },
   "source": [
    "Ok, that's just the briefest introduction to how to use the ImageDraw module. Now, it has the ability to change\n",
    "individual pixel values, draw complex polygons, do different fills levels, or even add text. I find it handy with\n",
    "exactly this kind of task -- when I want to highlight an area of an image and need to draw a few bounding boxes as a\n",
    "demonstration. I encourage you to explore the ImageDraw module, especially since you can do it right here in Jupyer! In\n",
    "the next lecture we're going to talk about how to handle multiple images and operations among them using the python\n",
    "imaging library.\n"
   ]
  }
 ],
 "metadata": {
  "colab": {
   "name": "Module 1.ipynb",
   "provenance": [],
   "version": "0.3.2"
  },
  "kernelspec": {
   "display_name": "Python 3",
   "language": "python",
   "name": "python3"
  },
  "language_info": {
   "codemirror_mode": {
    "name": "ipython",
    "version": 3
   },
   "file_extension": ".py",
   "mimetype": "text/x-python",
   "name": "python",
   "nbconvert_exporter": "python",
   "pygments_lexer": "ipython3",
   "version": "3.11.9"
  }
 },
 "nbformat": 4,
 "nbformat_minor": 2
}
