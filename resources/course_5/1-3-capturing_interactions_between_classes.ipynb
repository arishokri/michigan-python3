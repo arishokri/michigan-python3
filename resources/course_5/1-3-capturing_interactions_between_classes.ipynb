{
 "cells": [
  {
   "cell_type": "markdown",
   "metadata": {},
   "source": [
    "# Capturing Interactions Between Classes\n"
   ]
  },
  {
   "cell_type": "markdown",
   "metadata": {},
   "source": [
    "Ok, now that we have our base classes created for our game, we want to connect them to one another with methods and\n",
    "functions. In software engineering we often call this \"wiring up\" our classes, even though there's no physical wires\n",
    "involved. So why do we call it \"wiring up\"? Well, it becomes a bit more clear when we go back to diagraming, so I'm\n",
    "going to introduce you to a method called sequence diagraming.\n"
   ]
  },
  {
   "cell_type": "markdown",
   "metadata": {},
   "source": [
    "Most sequence diagrams start with a person - a human being which is interacting with your application. In the same UML\n",
    "box we used before we should be able to find a person with a long line coming below them, so I'm going to add the person\n",
    "to my canvas. Once we have the person out we think about the operations that they're going to do with our system. I\n",
    "think this is pretty easy to start with, they're going to want to create a new `Adventurer`. So let's find the Object\n",
    "box with a dotted line below it and drag it out onto our canvas as well.\n"
   ]
  },
  {
   "cell_type": "markdown",
   "metadata": {},
   "source": [
    "At the top you'll see it has a colon and the word `Object`. This is where we get to set our object name and determine\n",
    "which class it is. This is where you get that first test of object oriented programming again - do you remember what the\n",
    "difference is between an object and a class? Well, thus far in our project we don't have an instances -- that is,\n",
    "objects -- of our `Adventurer`. We have only defined the `Adventurer` class. In this diagram I'm going to call this\n",
    "object our hero, and indicate it is of type `Adventurer`. You'll notice that by convention our classes start with an\n",
    "uppercase letter, while our variable names start with a lower class letter.\n"
   ]
  },
  {
   "cell_type": "markdown",
   "metadata": {},
   "source": [
    "You might remember from the previous lecture that when we create the `Adventurer` we actually need to specify a name as\n",
    "a string. Look in the UML panel for a line with an arrow. This indicates a message in UML, and we usually use that to\n",
    "denote function or method calling. Let's drag that over to indicate that the object is going to be initialized with a\n",
    "new name. We put on this line the method we are calling - in this case it's the special `__init__` method which is the\n",
    "constructor for python objects. We'll put in the parentheses the arguments we expect, which is just a name for the\n",
    "`Adventurer` class. We then add a return message, and this shows up as a dotted line going back to our actor, the human.\n"
   ]
  },
  {
   "cell_type": "markdown",
   "metadata": {},
   "source": [
    "Ok, our first wires have been created! Now, it's pretty basic, but there is a lot of language here that we use very\n",
    "purposefully. So, listen to this statement I'm going to make and see how comfortable you are in decoding what it means,\n",
    "both with respect to our diagram, and to the python code you've already seen.\n",
    "\n",
    "In this diagram, we have instantiated an object of class Adventurer by calling its constructor and passing in the name\n",
    "parameter.\n"
   ]
  },
  {
   "cell_type": "markdown",
   "metadata": {},
   "source": [
    "Alright, now that we have seen the basics, let's increase the complexity and design a more full application. The user\n",
    "needs a `Cave` to send their hero, so we're going to create the cave system as well. Let's add a new object and I'll\n",
    "name it as cave and make it as type `Cave`. Now, at this point I actually haven't designed the `Cave` details yet. I\n",
    "expect that an object of type `Cave` is going to create a bunch of `Room` objects, so I would diagram this as the user\n",
    "invoking the `Cave` constructor, then the `Cave` invoking a `Room` constructor for, maybe 5 different rooms. Modeling\n",
    "the constructors is pretty easy, so let's do that now by adding in a `Room`, and then creating some wires, first between\n",
    "the user and the cave, then the cave and the room.\n"
   ]
  },
  {
   "cell_type": "markdown",
   "metadata": {},
   "source": [
    "Great, now we've indicated that a user is going to create an `Adventurer`, then the user will create a `Cave`, and then\n",
    "the `Cave` will create a room. But we actually want a bunch of rooms to be created in a loop. In UML we would typically\n",
    "model this using a frame, which we can see in the selection of shapes as a big empty rectangle. Let's bring that over\n",
    "and indicate that the calls between the cave instance and the `Room` class will be done ten times. Also, we know that a\n",
    "`Room` should hold some monster and some treasure, so I'm going to model this as a call to a separate function called\n",
    "`create_monster_and_treasure()`.\n"
   ]
  },
  {
   "cell_type": "markdown",
   "metadata": {},
   "source": [
    "Actually, now that we have our first method call, I'm going to update our class diagram as well! Just like data\n",
    "attributes, function attributes are added in their own block in the class diagram. I generally don't model constructors\n",
    "-- the python `__init__` function -- but there's no reason you can't if you want to. What I'm going to do here is just\n",
    "delete the methods from all of the objects except for the `Room`, and I'll add the `create_monster_and_treasure` to the\n",
    "Room.\n"
   ]
  },
  {
   "cell_type": "markdown",
   "metadata": {},
   "source": [
    "I think we're almost done for this demonstration. There is a lot of code which isn't shown here - in particular, I\n",
    "haven't diagramed out of any of the detail of what `create_monster_and_treasure()` actually does. This is the beauty of\n",
    "encapsulation in object oriented programming -- I don't have to detail that here if I want to stay at a high level, we\n",
    "can put that in another diagram and just assume right now that the rooms will each be set up with a `Monster` and\n",
    "`Item`. However, you certainly _can_ add in two more objects and, actually, that might be good practice -- why not stop\n",
    "this video and give it a try yourself, adding in the `Item` and `Monster` objects within that loop, and then you can\n",
    "compare your solution to mine.\n"
   ]
  }
 ],
 "metadata": {
  "language_info": {
   "name": "python"
  }
 },
 "nbformat": 4,
 "nbformat_minor": 2
}
