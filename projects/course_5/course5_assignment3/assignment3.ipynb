{
 "cells": [
  {
   "cell_type": "markdown",
   "metadata": {
    "deletable": false,
    "editable": false,
    "nbgrader": {
     "cell_type": "markdown",
     "checksum": "396093c37b0bd95a59aa1721aa93d3d9",
     "grade": false,
     "grade_id": "cell-e752145b912a736b",
     "locked": true,
     "schema_version": 3,
     "solution": false,
     "task": false
    }
   },
   "source": [
    "# Assignment 3: Creating a WordyPy Solver\n",
    "\n",
    "You now understand the rules of _WordyPy_ and how to read the game state from an image. Now your job is to read in a\n",
    "_WordyPy_ partial play and provide a next **good** guess. What's a good guess? A good guess is one which:\n",
    "\n",
    "1. Continues to adhere to the rules of _WordPy_\n",
    "2. Does not repeat words which have already been played\n",
    "3. Uses the knowledge of previous guesses to pick a new good word\n",
    "\n",
    "Unlike previous assignments there are no guardrails for this task -- you can complete this using whatever software\n",
    "architecture you like! In addition, I've put my code in a new module for you to import, called `wordy`. You can just\n",
    "import this module and begin making calls to it. You should be able to understand how it works by reading the module\n",
    "documentation.\n"
   ]
  },
  {
   "cell_type": "code",
   "execution_count": 6,
   "metadata": {
    "deletable": false,
    "nbgrader": {
     "cell_type": "code",
     "checksum": "456f642a4d7c230cb02ebe5b4b37554e",
     "grade": false,
     "grade_id": "cell-e758e760b1c54767",
     "locked": false,
     "schema_version": 3,
     "solution": true,
     "task": false
    }
   },
   "outputs": [],
   "source": [
    "import wordy\n",
    "import PIL\n",
    "import pytesseract\n",
    "import random\n",
    "pytesseract.pytesseract.tesseract_cmd = r'PATH TO Tesseract'\n",
    "\n",
    "\n",
    "def solution(board: PIL.Image) -> str:\n",
    "    \"\"\"The student solution to the problem.\n",
    "\n",
    "    You must write code to query the wordy module and make\n",
    "    a guess for the word. You needs to inspect the module to\n",
    "    understand how to do this, and this function should only return\n",
    "    the guess that you are going to make based on the game board state.\n",
    "\n",
    "    Returns:\n",
    "        str: The guess that you are going to make.\n",
    "    \"\"\"\n",
    "    word_list = wordy.get_word_list()\n",
    "    display_spec = wordy.get_display_spec()\n",
    "    correct_letters = {}\n",
    "    misplaced_letters = set()\n",
    "    excluded_letters = set()\n",
    "\n",
    "    # Get image dimensions\n",
    "    img_width, img_height = board.size\n",
    "\n",
    "    # Step 1: Analyze the board to extract clues\n",
    "    for i in range(5):  # Assume 5 rows for guesses\n",
    "        y = i * display_spec.block_height\n",
    "        \n",
    "        if y >= img_height:  # Prevent out-of-bounds access\n",
    "            break\n",
    "\n",
    "        for j in range(5):  # Assume 5 letters per guess\n",
    "            x = j * (display_spec.block_width + display_spec.space_between_letters)\n",
    "            \n",
    "            if x >= img_width:  # Prevent out-of-bounds access\n",
    "                break\n",
    "\n",
    "            # Ensure the pixel is within the image bounds\n",
    "            if (x + display_spec.block_width - 5 < img_width) and (y + display_spec.block_height - 5 < img_height):\n",
    "                # Get the color of the block surrounding the letter\n",
    "                color_block = board.getpixel((x + display_spec.block_width - 5, y + display_spec.block_height - 5))\n",
    "                \n",
    "                # Convert hex colors to RGB tuples for comparison\n",
    "                correct_color = tuple(int(display_spec.correct_location_color[i:i+2], 16) for i in (1, 3, 5))\n",
    "                misplaced_color = tuple(int(display_spec.incorrect_location_color[i:i+2], 16) for i in (1, 3, 5))\n",
    "                incorrect_color = tuple(int(display_spec.incorrect_color[i:i+2], 16) for i in (1, 3, 5))\n",
    "\n",
    "                # Crop the area where the letter appears\n",
    "                letter_box = (x, y, x + display_spec.block_width, y + display_spec.block_height)\n",
    "                letter_image = board.crop(letter_box)\n",
    "\n",
    "                # Use Tesseract OCR to extract the letter\n",
    "                letter = pytesseract.image_to_string(letter_image, config='--psm 10').strip()\n",
    "\n",
    "                # Determine the letter's status based on the block color\n",
    "                if color_block == correct_color:\n",
    "                    correct_letters[j] = letter  # Correct letter in the correct place\n",
    "                elif color_block == misplaced_color:\n",
    "                    misplaced_letters.add(letter)  # Correct letter, wrong place\n",
    "                elif color_block == incorrect_color:\n",
    "                    excluded_letters.add(letter)  # Incorrect letter\n",
    "\n",
    "    # Step 2: Generate a new guess based on the clues\n",
    "    for word in word_list:\n",
    "        # Check if all known correct letters are in the right place\n",
    "        if all(word[position] == letter for position, letter in correct_letters.items()) and \\\n",
    "           all(letter in word for letter in misplaced_letters) and \\\n",
    "           all(letter not in word for letter in excluded_letters):\n",
    "            return word\n",
    "\n",
    "    # Return any word if no guess fits the criteria\n",
    "    return random.choice(word_list)\n",
    "\n",
    "# wordy.set_debug_mode(debug=True)\n",
    "# wordy.get_board_state(target_word_debug=\"ANNEX\", guess_words_debug=[\"APAID\", \"BOUGE\", \"CABLE\"])"
   ]
  },
  {
   "cell_type": "code",
   "execution_count": 7,
   "metadata": {
    "deletable": false,
    "editable": false,
    "nbgrader": {
     "cell_type": "code",
     "checksum": "a1eba9346dda9330e338d3ac2792c4bb",
     "grade": true,
     "grade_id": "cell-ae995a0f4243235e",
     "locked": true,
     "points": 1,
     "schema_version": 3,
     "solution": false,
     "task": false
    }
   },
   "outputs": [
    {
     "ename": "TesseractError",
     "evalue": "(2, 'Usage: pytesseract [-l lang] input_file')",
     "output_type": "error",
     "traceback": [
      "\u001b[0;31m---------------------------------------------------------------------------\u001b[0m",
      "\u001b[0;31mTesseractError\u001b[0m                            Traceback (most recent call last)",
      "Cell \u001b[0;32mIn[7], line 20\u001b[0m\n\u001b[1;32m     18\u001b[0m     wordy\u001b[38;5;241m.\u001b[39mmake_guess(new_guess)\n\u001b[1;32m     19\u001b[0m \u001b[38;5;28;01mexcept\u001b[39;00m \u001b[38;5;167;01mException\u001b[39;00m \u001b[38;5;28;01mas\u001b[39;00m e:\n\u001b[0;32m---> 20\u001b[0m     \u001b[38;5;28;01mraise\u001b[39;00m e\n",
      "Cell \u001b[0;32mIn[7], line 16\u001b[0m\n\u001b[1;32m     14\u001b[0m image \u001b[38;5;241m=\u001b[39m wordy\u001b[38;5;241m.\u001b[39mget_board_state()\n\u001b[1;32m     15\u001b[0m \u001b[38;5;66;03m# Create a new *good* guess based on the image and rules of wordy\u001b[39;00m\n\u001b[0;32m---> 16\u001b[0m new_guess \u001b[38;5;241m=\u001b[39m \u001b[43msolution\u001b[49m\u001b[43m(\u001b[49m\u001b[43mimage\u001b[49m\u001b[43m)\u001b[49m  \u001b[38;5;66;03m# your code goes in solution()!\u001b[39;00m\n\u001b[1;32m     17\u001b[0m \u001b[38;5;66;03m# Send that guess to wordy to make sure it doesn't throw any errors\u001b[39;00m\n\u001b[1;32m     18\u001b[0m wordy\u001b[38;5;241m.\u001b[39mmake_guess(new_guess)\n",
      "Cell \u001b[0;32mIn[6], line 56\u001b[0m, in \u001b[0;36msolution\u001b[0;34m(board)\u001b[0m\n\u001b[1;32m     53\u001b[0m letter_image \u001b[38;5;241m=\u001b[39m board\u001b[38;5;241m.\u001b[39mcrop(letter_box)\n\u001b[1;32m     55\u001b[0m \u001b[38;5;66;03m# Use Tesseract OCR to extract the letter\u001b[39;00m\n\u001b[0;32m---> 56\u001b[0m letter \u001b[38;5;241m=\u001b[39m \u001b[43mpytesseract\u001b[49m\u001b[38;5;241;43m.\u001b[39;49m\u001b[43mimage_to_string\u001b[49m\u001b[43m(\u001b[49m\u001b[43mletter_image\u001b[49m\u001b[43m,\u001b[49m\u001b[43m \u001b[49m\u001b[43mconfig\u001b[49m\u001b[38;5;241;43m=\u001b[39;49m\u001b[38;5;124;43m'\u001b[39;49m\u001b[38;5;124;43m--psm 10\u001b[39;49m\u001b[38;5;124;43m'\u001b[39;49m\u001b[43m)\u001b[49m\u001b[38;5;241m.\u001b[39mstrip()\n\u001b[1;32m     58\u001b[0m \u001b[38;5;66;03m# Determine the letter's status based on the block color\u001b[39;00m\n\u001b[1;32m     59\u001b[0m \u001b[38;5;28;01mif\u001b[39;00m color_block \u001b[38;5;241m==\u001b[39m correct_color:\n",
      "File \u001b[0;32m~/miniconda3/envs/ds/lib/python3.11/site-packages/pytesseract/pytesseract.py:486\u001b[0m, in \u001b[0;36mimage_to_string\u001b[0;34m(image, lang, config, nice, output_type, timeout)\u001b[0m\n\u001b[1;32m    481\u001b[0m \u001b[38;5;250m\u001b[39m\u001b[38;5;124;03m\"\"\"\u001b[39;00m\n\u001b[1;32m    482\u001b[0m \u001b[38;5;124;03mReturns the result of a Tesseract OCR run on the provided image to string\u001b[39;00m\n\u001b[1;32m    483\u001b[0m \u001b[38;5;124;03m\"\"\"\u001b[39;00m\n\u001b[1;32m    484\u001b[0m args \u001b[38;5;241m=\u001b[39m [image, \u001b[38;5;124m'\u001b[39m\u001b[38;5;124mtxt\u001b[39m\u001b[38;5;124m'\u001b[39m, lang, config, nice, timeout]\n\u001b[0;32m--> 486\u001b[0m \u001b[38;5;28;01mreturn\u001b[39;00m \u001b[43m{\u001b[49m\n\u001b[1;32m    487\u001b[0m \u001b[43m    \u001b[49m\u001b[43mOutput\u001b[49m\u001b[38;5;241;43m.\u001b[39;49m\u001b[43mBYTES\u001b[49m\u001b[43m:\u001b[49m\u001b[43m \u001b[49m\u001b[38;5;28;43;01mlambda\u001b[39;49;00m\u001b[43m:\u001b[49m\u001b[43m \u001b[49m\u001b[43mrun_and_get_output\u001b[49m\u001b[43m(\u001b[49m\u001b[38;5;241;43m*\u001b[39;49m\u001b[43m(\u001b[49m\u001b[43margs\u001b[49m\u001b[43m \u001b[49m\u001b[38;5;241;43m+\u001b[39;49m\u001b[43m \u001b[49m\u001b[43m[\u001b[49m\u001b[38;5;28;43;01mTrue\u001b[39;49;00m\u001b[43m]\u001b[49m\u001b[43m)\u001b[49m\u001b[43m)\u001b[49m\u001b[43m,\u001b[49m\n\u001b[1;32m    488\u001b[0m \u001b[43m    \u001b[49m\u001b[43mOutput\u001b[49m\u001b[38;5;241;43m.\u001b[39;49m\u001b[43mDICT\u001b[49m\u001b[43m:\u001b[49m\u001b[43m \u001b[49m\u001b[38;5;28;43;01mlambda\u001b[39;49;00m\u001b[43m:\u001b[49m\u001b[43m \u001b[49m\u001b[43m{\u001b[49m\u001b[38;5;124;43m'\u001b[39;49m\u001b[38;5;124;43mtext\u001b[39;49m\u001b[38;5;124;43m'\u001b[39;49m\u001b[43m:\u001b[49m\u001b[43m \u001b[49m\u001b[43mrun_and_get_output\u001b[49m\u001b[43m(\u001b[49m\u001b[38;5;241;43m*\u001b[39;49m\u001b[43margs\u001b[49m\u001b[43m)\u001b[49m\u001b[43m}\u001b[49m\u001b[43m,\u001b[49m\n\u001b[1;32m    489\u001b[0m \u001b[43m    \u001b[49m\u001b[43mOutput\u001b[49m\u001b[38;5;241;43m.\u001b[39;49m\u001b[43mSTRING\u001b[49m\u001b[43m:\u001b[49m\u001b[43m \u001b[49m\u001b[38;5;28;43;01mlambda\u001b[39;49;00m\u001b[43m:\u001b[49m\u001b[43m \u001b[49m\u001b[43mrun_and_get_output\u001b[49m\u001b[43m(\u001b[49m\u001b[38;5;241;43m*\u001b[39;49m\u001b[43margs\u001b[49m\u001b[43m)\u001b[49m\u001b[43m,\u001b[49m\n\u001b[1;32m    490\u001b[0m \u001b[43m\u001b[49m\u001b[43m}\u001b[49m\u001b[43m[\u001b[49m\u001b[43moutput_type\u001b[49m\u001b[43m]\u001b[49m\u001b[43m(\u001b[49m\u001b[43m)\u001b[49m\n",
      "File \u001b[0;32m~/miniconda3/envs/ds/lib/python3.11/site-packages/pytesseract/pytesseract.py:489\u001b[0m, in \u001b[0;36mimage_to_string.<locals>.<lambda>\u001b[0;34m()\u001b[0m\n\u001b[1;32m    481\u001b[0m \u001b[38;5;250m\u001b[39m\u001b[38;5;124;03m\"\"\"\u001b[39;00m\n\u001b[1;32m    482\u001b[0m \u001b[38;5;124;03mReturns the result of a Tesseract OCR run on the provided image to string\u001b[39;00m\n\u001b[1;32m    483\u001b[0m \u001b[38;5;124;03m\"\"\"\u001b[39;00m\n\u001b[1;32m    484\u001b[0m args \u001b[38;5;241m=\u001b[39m [image, \u001b[38;5;124m'\u001b[39m\u001b[38;5;124mtxt\u001b[39m\u001b[38;5;124m'\u001b[39m, lang, config, nice, timeout]\n\u001b[1;32m    486\u001b[0m \u001b[38;5;28;01mreturn\u001b[39;00m {\n\u001b[1;32m    487\u001b[0m     Output\u001b[38;5;241m.\u001b[39mBYTES: \u001b[38;5;28;01mlambda\u001b[39;00m: run_and_get_output(\u001b[38;5;241m*\u001b[39m(args \u001b[38;5;241m+\u001b[39m [\u001b[38;5;28;01mTrue\u001b[39;00m])),\n\u001b[1;32m    488\u001b[0m     Output\u001b[38;5;241m.\u001b[39mDICT: \u001b[38;5;28;01mlambda\u001b[39;00m: {\u001b[38;5;124m'\u001b[39m\u001b[38;5;124mtext\u001b[39m\u001b[38;5;124m'\u001b[39m: run_and_get_output(\u001b[38;5;241m*\u001b[39margs)},\n\u001b[0;32m--> 489\u001b[0m     Output\u001b[38;5;241m.\u001b[39mSTRING: \u001b[38;5;28;01mlambda\u001b[39;00m: \u001b[43mrun_and_get_output\u001b[49m\u001b[43m(\u001b[49m\u001b[38;5;241;43m*\u001b[39;49m\u001b[43margs\u001b[49m\u001b[43m)\u001b[49m,\n\u001b[1;32m    490\u001b[0m }[output_type]()\n",
      "File \u001b[0;32m~/miniconda3/envs/ds/lib/python3.11/site-packages/pytesseract/pytesseract.py:352\u001b[0m, in \u001b[0;36mrun_and_get_output\u001b[0;34m(image, extension, lang, config, nice, timeout, return_bytes)\u001b[0m\n\u001b[1;32m    341\u001b[0m \u001b[38;5;28;01mwith\u001b[39;00m save(image) \u001b[38;5;28;01mas\u001b[39;00m (temp_name, input_filename):\n\u001b[1;32m    342\u001b[0m     kwargs \u001b[38;5;241m=\u001b[39m {\n\u001b[1;32m    343\u001b[0m         \u001b[38;5;124m'\u001b[39m\u001b[38;5;124minput_filename\u001b[39m\u001b[38;5;124m'\u001b[39m: input_filename,\n\u001b[1;32m    344\u001b[0m         \u001b[38;5;124m'\u001b[39m\u001b[38;5;124moutput_filename_base\u001b[39m\u001b[38;5;124m'\u001b[39m: temp_name,\n\u001b[0;32m   (...)\u001b[0m\n\u001b[1;32m    349\u001b[0m         \u001b[38;5;124m'\u001b[39m\u001b[38;5;124mtimeout\u001b[39m\u001b[38;5;124m'\u001b[39m: timeout,\n\u001b[1;32m    350\u001b[0m     }\n\u001b[0;32m--> 352\u001b[0m     \u001b[43mrun_tesseract\u001b[49m\u001b[43m(\u001b[49m\u001b[38;5;241;43m*\u001b[39;49m\u001b[38;5;241;43m*\u001b[39;49m\u001b[43mkwargs\u001b[49m\u001b[43m)\u001b[49m\n\u001b[1;32m    353\u001b[0m     \u001b[38;5;28;01mreturn\u001b[39;00m _read_output(\n\u001b[1;32m    354\u001b[0m         \u001b[38;5;124mf\u001b[39m\u001b[38;5;124m\"\u001b[39m\u001b[38;5;132;01m{\u001b[39;00mkwargs[\u001b[38;5;124m'\u001b[39m\u001b[38;5;124moutput_filename_base\u001b[39m\u001b[38;5;124m'\u001b[39m]\u001b[38;5;132;01m}\u001b[39;00m\u001b[38;5;132;01m{\u001b[39;00mextsep\u001b[38;5;132;01m}\u001b[39;00m\u001b[38;5;132;01m{\u001b[39;00mextension\u001b[38;5;132;01m}\u001b[39;00m\u001b[38;5;124m\"\u001b[39m,\n\u001b[1;32m    355\u001b[0m         return_bytes,\n\u001b[1;32m    356\u001b[0m     )\n",
      "File \u001b[0;32m~/miniconda3/envs/ds/lib/python3.11/site-packages/pytesseract/pytesseract.py:284\u001b[0m, in \u001b[0;36mrun_tesseract\u001b[0;34m(input_filename, output_filename_base, extension, lang, config, nice, timeout)\u001b[0m\n\u001b[1;32m    282\u001b[0m \u001b[38;5;28;01mwith\u001b[39;00m timeout_manager(proc, timeout) \u001b[38;5;28;01mas\u001b[39;00m error_string:\n\u001b[1;32m    283\u001b[0m     \u001b[38;5;28;01mif\u001b[39;00m proc\u001b[38;5;241m.\u001b[39mreturncode:\n\u001b[0;32m--> 284\u001b[0m         \u001b[38;5;28;01mraise\u001b[39;00m TesseractError(proc\u001b[38;5;241m.\u001b[39mreturncode, get_errors(error_string))\n",
      "\u001b[0;31mTesseractError\u001b[0m: (2, 'Usage: pytesseract [-l lang] input_file')"
     ]
    }
   ],
   "source": [
    "# The autograder for this assignment is easy, it will try and play\n",
    "# a few rounds of the game and ensure that errors are not thrown. If\n",
    "# you can make it through five rounds we'll assume you have the right\n",
    "# solution!\n",
    "#\n",
    "# You SHOULD NOT change anything in the wordy module, instead you\n",
    "# must figure out how to write the solution() function in this notebook\n",
    "# to make a good guess based on the board state!\n",
    "\n",
    "for i in range(5):\n",
    "    try:\n",
    "        # Get an image of the current board state from wordy.\n",
    "        # Note that the image contains some number of random guesses (always less than 5 guesses).\n",
    "        image = wordy.get_board_state()\n",
    "        # Create a new *good* guess based on the image and rules of wordy\n",
    "        new_guess = solution(image)  # your code goes in solution()!\n",
    "        # Send that guess to wordy to make sure it doesn't throw any errors\n",
    "        wordy.make_guess(new_guess)\n",
    "    except Exception as e:\n",
    "        raise e"
   ]
  }
 ],
 "metadata": {
  "kernelspec": {
   "display_name": "ds",
   "language": "python",
   "name": "python3"
  },
  "language_info": {
   "codemirror_mode": {
    "name": "ipython",
    "version": 3
   },
   "file_extension": ".py",
   "mimetype": "text/x-python",
   "name": "python",
   "nbconvert_exporter": "python",
   "pygments_lexer": "ipython3",
   "version": "3.11.10"
  }
 },
 "nbformat": 4,
 "nbformat_minor": 4
}
